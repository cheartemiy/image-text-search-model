{
 "cells": [
  {
   "cell_type": "code",
   "execution_count": 1,
   "id": "fbd9df7b-b458-4eb0-94be-8fcc6e884edc",
   "metadata": {},
   "outputs": [
    {
     "name": "stderr",
     "output_type": "stream",
     "text": [
      "C:\\Users\\Deвайс\\AppData\\Local\\Programs\\Python\\Python311\\Lib\\site-packages\\tqdm\\auto.py:21: TqdmWarning: IProgress not found. Please update jupyter and ipywidgets. See https://ipywidgets.readthedocs.io/en/stable/user_install.html\n",
      "  from .autonotebook import tqdm as notebook_tqdm\n",
      "[nltk_data] Downloading package punkt to\n",
      "[nltk_data]     C:\\Users\\Deвайс\\AppData\\Roaming\\nltk_data...\n",
      "[nltk_data]   Package punkt is already up-to-date!\n",
      "[nltk_data] Downloading package wordnet to\n",
      "[nltk_data]     C:\\Users\\Deвайс\\AppData\\Roaming\\nltk_data...\n",
      "[nltk_data]   Package wordnet is already up-to-date!\n",
      "[nltk_data] Downloading package averaged_perceptron_tagger to\n",
      "[nltk_data]     C:\\Users\\Deвайс\\AppData\\Roaming\\nltk_data...\n",
      "[nltk_data]   Unzipping taggers\\averaged_perceptron_tagger.zip.\n",
      "[nltk_data] Downloading package stopwords to\n",
      "[nltk_data]     C:\\Users\\Deвайс\\AppData\\Roaming\\nltk_data...\n",
      "[nltk_data]   Package stopwords is already up-to-date!\n"
     ]
    },
    {
     "data": {
      "text/plain": [
       "True"
      ]
     },
     "execution_count": 1,
     "metadata": {},
     "output_type": "execute_result"
    }
   ],
   "source": [
    "import pandas as pd\n",
    "import numpy as np\n",
    "import os\n",
    "from PIL import Image\n",
    "import torch\n",
    "import torch.nn as nn\n",
    "from torchvision import models, transforms\n",
    "from sklearn.model_selection import GroupShuffleSplit\n",
    "from sklearn.metrics import mean_squared_error\n",
    "from transformers import BertTokenizer, BertModel\n",
    "from sklearn.linear_model import LinearRegression\n",
    "from torchvision.models import ResNet18_Weights\n",
    "\n",
    "import re\n",
    "from nltk.corpus import stopwords\n",
    "from nltk.tokenize import word_tokenize\n",
    "from nltk.stem import WordNetLemmatizer\n",
    "from nltk import pos_tag\n",
    "import nltk\n",
    "nltk.download('punkt')\n",
    "nltk.download('wordnet')\n",
    "nltk.download('averaged_perceptron_tagger')\n",
    "nltk.download('stopwords')"
   ]
  },
  {
   "cell_type": "code",
   "execution_count": 2,
   "id": "1a889f77-0497-49b0-84c9-ce3d6ef65ad5",
   "metadata": {},
   "outputs": [],
   "source": [
    "# Загрузка данных\n",
    "train_data = pd.read_csv('/Users/chajartem/Yandex_Praktikum_DS2024_datasetst/to_upload/train_dataset.csv')\n",
    "\n",
    "crowd_annotations = pd.read_csv('/Users/chajartem/Yandex_Praktikum_DS2024_datasetst/to_upload/CrowdAnnotations.tsv', sep='\\t',\n",
    "                                 header=None, names=['image_file', 'query_id', 'score', 'yes', 'no'])\n",
    "\n",
    "expert_annotations = pd.read_csv('/Users/chajartem/Yandex_Praktikum_DS2024_datasetst/to_upload/ExpertAnnotations.tsv', sep='\\t',\n",
    "                                  header=None, names=['image_file', 'query_id', 'ex_1', 'ex_2', 'ex_3'])\n",
    "\n",
    "test_queries = pd.read_csv('/Users/chajartem/Yandex_Praktikum_DS2024_datasetst/to_upload/test_queries.csv',\n",
    "                            sep='|', header=None, names=['query_id', 'query_text', 'image'], skiprows=1)"
   ]
  },
  {
   "cell_type": "code",
   "execution_count": 3,
   "id": "ab509b1e-a201-49cc-8d73-69f75f93fd81",
   "metadata": {},
   "outputs": [
    {
     "data": {
      "text/html": [
       "<div>\n",
       "<style scoped>\n",
       "    .dataframe tbody tr th:only-of-type {\n",
       "        vertical-align: middle;\n",
       "    }\n",
       "\n",
       "    .dataframe tbody tr th {\n",
       "        vertical-align: top;\n",
       "    }\n",
       "\n",
       "    .dataframe thead th {\n",
       "        text-align: right;\n",
       "    }\n",
       "</style>\n",
       "<table border=\"1\" class=\"dataframe\">\n",
       "  <thead>\n",
       "    <tr style=\"text-align: right;\">\n",
       "      <th></th>\n",
       "      <th>image</th>\n",
       "      <th>query_id</th>\n",
       "      <th>query_text</th>\n",
       "    </tr>\n",
       "  </thead>\n",
       "  <tbody>\n",
       "    <tr>\n",
       "      <th>0</th>\n",
       "      <td>1056338697_4f7d7ce270.jpg</td>\n",
       "      <td>2549968784_39bfbe44f9.jpg#2</td>\n",
       "      <td>A young child is wearing blue goggles and sitt...</td>\n",
       "    </tr>\n",
       "    <tr>\n",
       "      <th>1</th>\n",
       "      <td>1262583859_653f1469a9.jpg</td>\n",
       "      <td>2549968784_39bfbe44f9.jpg#2</td>\n",
       "      <td>A young child is wearing blue goggles and sitt...</td>\n",
       "    </tr>\n",
       "    <tr>\n",
       "      <th>2</th>\n",
       "      <td>2447284966_d6bbdb4b6e.jpg</td>\n",
       "      <td>2549968784_39bfbe44f9.jpg#2</td>\n",
       "      <td>A young child is wearing blue goggles and sitt...</td>\n",
       "    </tr>\n",
       "    <tr>\n",
       "      <th>3</th>\n",
       "      <td>2549968784_39bfbe44f9.jpg</td>\n",
       "      <td>2549968784_39bfbe44f9.jpg#2</td>\n",
       "      <td>A young child is wearing blue goggles and sitt...</td>\n",
       "    </tr>\n",
       "    <tr>\n",
       "      <th>4</th>\n",
       "      <td>2621415349_ef1a7e73be.jpg</td>\n",
       "      <td>2549968784_39bfbe44f9.jpg#2</td>\n",
       "      <td>A young child is wearing blue goggles and sitt...</td>\n",
       "    </tr>\n",
       "  </tbody>\n",
       "</table>\n",
       "</div>"
      ],
      "text/plain": [
       "                       image                     query_id  \\\n",
       "0  1056338697_4f7d7ce270.jpg  2549968784_39bfbe44f9.jpg#2   \n",
       "1  1262583859_653f1469a9.jpg  2549968784_39bfbe44f9.jpg#2   \n",
       "2  2447284966_d6bbdb4b6e.jpg  2549968784_39bfbe44f9.jpg#2   \n",
       "3  2549968784_39bfbe44f9.jpg  2549968784_39bfbe44f9.jpg#2   \n",
       "4  2621415349_ef1a7e73be.jpg  2549968784_39bfbe44f9.jpg#2   \n",
       "\n",
       "                                          query_text  \n",
       "0  A young child is wearing blue goggles and sitt...  \n",
       "1  A young child is wearing blue goggles and sitt...  \n",
       "2  A young child is wearing blue goggles and sitt...  \n",
       "3  A young child is wearing blue goggles and sitt...  \n",
       "4  A young child is wearing blue goggles and sitt...  "
      ]
     },
     "metadata": {},
     "output_type": "display_data"
    }
   ],
   "source": [
    "# Просмотр данных\n",
    "display(train_data.head())"
   ]
  },
  {
   "cell_type": "code",
   "execution_count": 4,
   "id": "65162920-a72f-4f93-9dc6-fe9150740638",
   "metadata": {},
   "outputs": [
    {
     "data": {
      "text/html": [
       "<div>\n",
       "<style scoped>\n",
       "    .dataframe tbody tr th:only-of-type {\n",
       "        vertical-align: middle;\n",
       "    }\n",
       "\n",
       "    .dataframe tbody tr th {\n",
       "        vertical-align: top;\n",
       "    }\n",
       "\n",
       "    .dataframe thead th {\n",
       "        text-align: right;\n",
       "    }\n",
       "</style>\n",
       "<table border=\"1\" class=\"dataframe\">\n",
       "  <thead>\n",
       "    <tr style=\"text-align: right;\">\n",
       "      <th></th>\n",
       "      <th>image_file</th>\n",
       "      <th>query_id</th>\n",
       "      <th>score</th>\n",
       "      <th>yes</th>\n",
       "      <th>no</th>\n",
       "    </tr>\n",
       "  </thead>\n",
       "  <tbody>\n",
       "    <tr>\n",
       "      <th>0</th>\n",
       "      <td>1056338697_4f7d7ce270.jpg</td>\n",
       "      <td>1056338697_4f7d7ce270.jpg#2</td>\n",
       "      <td>1.000000</td>\n",
       "      <td>3</td>\n",
       "      <td>0</td>\n",
       "    </tr>\n",
       "    <tr>\n",
       "      <th>1</th>\n",
       "      <td>1056338697_4f7d7ce270.jpg</td>\n",
       "      <td>114051287_dd85625a04.jpg#2</td>\n",
       "      <td>0.000000</td>\n",
       "      <td>0</td>\n",
       "      <td>3</td>\n",
       "    </tr>\n",
       "    <tr>\n",
       "      <th>2</th>\n",
       "      <td>1056338697_4f7d7ce270.jpg</td>\n",
       "      <td>1427391496_ea512cbe7f.jpg#2</td>\n",
       "      <td>0.000000</td>\n",
       "      <td>0</td>\n",
       "      <td>3</td>\n",
       "    </tr>\n",
       "    <tr>\n",
       "      <th>3</th>\n",
       "      <td>1056338697_4f7d7ce270.jpg</td>\n",
       "      <td>2073964624_52da3a0fc4.jpg#2</td>\n",
       "      <td>0.000000</td>\n",
       "      <td>0</td>\n",
       "      <td>3</td>\n",
       "    </tr>\n",
       "    <tr>\n",
       "      <th>4</th>\n",
       "      <td>1056338697_4f7d7ce270.jpg</td>\n",
       "      <td>2083434441_a93bc6306b.jpg#2</td>\n",
       "      <td>0.000000</td>\n",
       "      <td>0</td>\n",
       "      <td>3</td>\n",
       "    </tr>\n",
       "    <tr>\n",
       "      <th>5</th>\n",
       "      <td>1056338697_4f7d7ce270.jpg</td>\n",
       "      <td>2204550058_2707d92338.jpg#2</td>\n",
       "      <td>0.000000</td>\n",
       "      <td>0</td>\n",
       "      <td>3</td>\n",
       "    </tr>\n",
       "    <tr>\n",
       "      <th>6</th>\n",
       "      <td>1056338697_4f7d7ce270.jpg</td>\n",
       "      <td>2224450291_4c133fabe8.jpg#2</td>\n",
       "      <td>0.000000</td>\n",
       "      <td>0</td>\n",
       "      <td>3</td>\n",
       "    </tr>\n",
       "    <tr>\n",
       "      <th>7</th>\n",
       "      <td>1056338697_4f7d7ce270.jpg</td>\n",
       "      <td>2248487950_c62d0c81a9.jpg#2</td>\n",
       "      <td>0.333333</td>\n",
       "      <td>1</td>\n",
       "      <td>2</td>\n",
       "    </tr>\n",
       "    <tr>\n",
       "      <th>8</th>\n",
       "      <td>1056338697_4f7d7ce270.jpg</td>\n",
       "      <td>2307118114_c258e3a47e.jpg#2</td>\n",
       "      <td>0.000000</td>\n",
       "      <td>0</td>\n",
       "      <td>3</td>\n",
       "    </tr>\n",
       "    <tr>\n",
       "      <th>9</th>\n",
       "      <td>1056338697_4f7d7ce270.jpg</td>\n",
       "      <td>2309860995_c2e2a0feeb.jpg#2</td>\n",
       "      <td>0.000000</td>\n",
       "      <td>0</td>\n",
       "      <td>3</td>\n",
       "    </tr>\n",
       "  </tbody>\n",
       "</table>\n",
       "</div>"
      ],
      "text/plain": [
       "                  image_file                     query_id     score  yes  no\n",
       "0  1056338697_4f7d7ce270.jpg  1056338697_4f7d7ce270.jpg#2  1.000000    3   0\n",
       "1  1056338697_4f7d7ce270.jpg   114051287_dd85625a04.jpg#2  0.000000    0   3\n",
       "2  1056338697_4f7d7ce270.jpg  1427391496_ea512cbe7f.jpg#2  0.000000    0   3\n",
       "3  1056338697_4f7d7ce270.jpg  2073964624_52da3a0fc4.jpg#2  0.000000    0   3\n",
       "4  1056338697_4f7d7ce270.jpg  2083434441_a93bc6306b.jpg#2  0.000000    0   3\n",
       "5  1056338697_4f7d7ce270.jpg  2204550058_2707d92338.jpg#2  0.000000    0   3\n",
       "6  1056338697_4f7d7ce270.jpg  2224450291_4c133fabe8.jpg#2  0.000000    0   3\n",
       "7  1056338697_4f7d7ce270.jpg  2248487950_c62d0c81a9.jpg#2  0.333333    1   2\n",
       "8  1056338697_4f7d7ce270.jpg  2307118114_c258e3a47e.jpg#2  0.000000    0   3\n",
       "9  1056338697_4f7d7ce270.jpg  2309860995_c2e2a0feeb.jpg#2  0.000000    0   3"
      ]
     },
     "metadata": {},
     "output_type": "display_data"
    }
   ],
   "source": [
    "display(crowd_annotations.head(10))"
   ]
  },
  {
   "cell_type": "code",
   "execution_count": 5,
   "id": "ce822089-1e40-4dab-9194-cea86c6075d9",
   "metadata": {},
   "outputs": [
    {
     "data": {
      "text/html": [
       "<div>\n",
       "<style scoped>\n",
       "    .dataframe tbody tr th:only-of-type {\n",
       "        vertical-align: middle;\n",
       "    }\n",
       "\n",
       "    .dataframe tbody tr th {\n",
       "        vertical-align: top;\n",
       "    }\n",
       "\n",
       "    .dataframe thead th {\n",
       "        text-align: right;\n",
       "    }\n",
       "</style>\n",
       "<table border=\"1\" class=\"dataframe\">\n",
       "  <thead>\n",
       "    <tr style=\"text-align: right;\">\n",
       "      <th></th>\n",
       "      <th>image_file</th>\n",
       "      <th>query_id</th>\n",
       "      <th>ex_1</th>\n",
       "      <th>ex_2</th>\n",
       "      <th>ex_3</th>\n",
       "    </tr>\n",
       "  </thead>\n",
       "  <tbody>\n",
       "    <tr>\n",
       "      <th>0</th>\n",
       "      <td>1056338697_4f7d7ce270.jpg</td>\n",
       "      <td>2549968784_39bfbe44f9.jpg#2</td>\n",
       "      <td>1</td>\n",
       "      <td>1</td>\n",
       "      <td>1</td>\n",
       "    </tr>\n",
       "    <tr>\n",
       "      <th>1</th>\n",
       "      <td>1056338697_4f7d7ce270.jpg</td>\n",
       "      <td>2718495608_d8533e3ac5.jpg#2</td>\n",
       "      <td>1</td>\n",
       "      <td>1</td>\n",
       "      <td>2</td>\n",
       "    </tr>\n",
       "    <tr>\n",
       "      <th>2</th>\n",
       "      <td>1056338697_4f7d7ce270.jpg</td>\n",
       "      <td>3181701312_70a379ab6e.jpg#2</td>\n",
       "      <td>1</td>\n",
       "      <td>1</td>\n",
       "      <td>2</td>\n",
       "    </tr>\n",
       "    <tr>\n",
       "      <th>3</th>\n",
       "      <td>1056338697_4f7d7ce270.jpg</td>\n",
       "      <td>3207358897_bfa61fa3c6.jpg#2</td>\n",
       "      <td>1</td>\n",
       "      <td>2</td>\n",
       "      <td>2</td>\n",
       "    </tr>\n",
       "    <tr>\n",
       "      <th>4</th>\n",
       "      <td>1056338697_4f7d7ce270.jpg</td>\n",
       "      <td>3286822339_5535af6b93.jpg#2</td>\n",
       "      <td>1</td>\n",
       "      <td>1</td>\n",
       "      <td>2</td>\n",
       "    </tr>\n",
       "  </tbody>\n",
       "</table>\n",
       "</div>"
      ],
      "text/plain": [
       "                  image_file                     query_id  ex_1  ex_2  ex_3\n",
       "0  1056338697_4f7d7ce270.jpg  2549968784_39bfbe44f9.jpg#2     1     1     1\n",
       "1  1056338697_4f7d7ce270.jpg  2718495608_d8533e3ac5.jpg#2     1     1     2\n",
       "2  1056338697_4f7d7ce270.jpg  3181701312_70a379ab6e.jpg#2     1     1     2\n",
       "3  1056338697_4f7d7ce270.jpg  3207358897_bfa61fa3c6.jpg#2     1     2     2\n",
       "4  1056338697_4f7d7ce270.jpg  3286822339_5535af6b93.jpg#2     1     1     2"
      ]
     },
     "metadata": {},
     "output_type": "display_data"
    }
   ],
   "source": [
    "display(expert_annotations.head())"
   ]
  },
  {
   "cell_type": "code",
   "execution_count": 6,
   "id": "18205ede-2da0-4230-99ea-130509a73adf",
   "metadata": {},
   "outputs": [
    {
     "data": {
      "text/html": [
       "<div>\n",
       "<style scoped>\n",
       "    .dataframe tbody tr th:only-of-type {\n",
       "        vertical-align: middle;\n",
       "    }\n",
       "\n",
       "    .dataframe tbody tr th {\n",
       "        vertical-align: top;\n",
       "    }\n",
       "\n",
       "    .dataframe thead th {\n",
       "        text-align: right;\n",
       "    }\n",
       "</style>\n",
       "<table border=\"1\" class=\"dataframe\">\n",
       "  <thead>\n",
       "    <tr style=\"text-align: right;\">\n",
       "      <th></th>\n",
       "      <th>query_id</th>\n",
       "      <th>query_text</th>\n",
       "      <th>image</th>\n",
       "    </tr>\n",
       "  </thead>\n",
       "  <tbody>\n",
       "    <tr>\n",
       "      <th>0</th>\n",
       "      <td>1177994172_10d143cb8d.jpg#0</td>\n",
       "      <td>Two blonde boys , one in a camouflage shirt an...</td>\n",
       "      <td>1177994172_10d143cb8d.jpg</td>\n",
       "    </tr>\n",
       "    <tr>\n",
       "      <th>1</th>\n",
       "      <td>1177994172_10d143cb8d.jpg#1</td>\n",
       "      <td>Two boys are squirting water guns at each other .</td>\n",
       "      <td>1177994172_10d143cb8d.jpg</td>\n",
       "    </tr>\n",
       "    <tr>\n",
       "      <th>2</th>\n",
       "      <td>1177994172_10d143cb8d.jpg#2</td>\n",
       "      <td>Two boys spraying each other with water</td>\n",
       "      <td>1177994172_10d143cb8d.jpg</td>\n",
       "    </tr>\n",
       "    <tr>\n",
       "      <th>3</th>\n",
       "      <td>1177994172_10d143cb8d.jpg#3</td>\n",
       "      <td>Two children wearing jeans squirt water at eac...</td>\n",
       "      <td>1177994172_10d143cb8d.jpg</td>\n",
       "    </tr>\n",
       "    <tr>\n",
       "      <th>4</th>\n",
       "      <td>1177994172_10d143cb8d.jpg#4</td>\n",
       "      <td>Two young boys are squirting water at each oth...</td>\n",
       "      <td>1177994172_10d143cb8d.jpg</td>\n",
       "    </tr>\n",
       "  </tbody>\n",
       "</table>\n",
       "</div>"
      ],
      "text/plain": [
       "                      query_id  \\\n",
       "0  1177994172_10d143cb8d.jpg#0   \n",
       "1  1177994172_10d143cb8d.jpg#1   \n",
       "2  1177994172_10d143cb8d.jpg#2   \n",
       "3  1177994172_10d143cb8d.jpg#3   \n",
       "4  1177994172_10d143cb8d.jpg#4   \n",
       "\n",
       "                                          query_text  \\\n",
       "0  Two blonde boys , one in a camouflage shirt an...   \n",
       "1  Two boys are squirting water guns at each other .   \n",
       "2            Two boys spraying each other with water   \n",
       "3  Two children wearing jeans squirt water at eac...   \n",
       "4  Two young boys are squirting water at each oth...   \n",
       "\n",
       "                       image  \n",
       "0  1177994172_10d143cb8d.jpg  \n",
       "1  1177994172_10d143cb8d.jpg  \n",
       "2  1177994172_10d143cb8d.jpg  \n",
       "3  1177994172_10d143cb8d.jpg  \n",
       "4  1177994172_10d143cb8d.jpg  "
      ]
     },
     "metadata": {},
     "output_type": "display_data"
    }
   ],
   "source": [
    "display(test_queries.head())"
   ]
  },
  {
   "cell_type": "code",
   "execution_count": 7,
   "id": "a3f5952c-2d25-4934-8965-a2e9bae40414",
   "metadata": {},
   "outputs": [
    {
     "name": "stdout",
     "output_type": "stream",
     "text": [
      "<class 'pandas.core.frame.DataFrame'>\n",
      "RangeIndex: 5822 entries, 0 to 5821\n",
      "Data columns (total 3 columns):\n",
      " #   Column      Non-Null Count  Dtype \n",
      "---  ------      --------------  ----- \n",
      " 0   image       5822 non-null   object\n",
      " 1   query_id    5822 non-null   object\n",
      " 2   query_text  5822 non-null   object\n",
      "dtypes: object(3)\n",
      "memory usage: 136.6+ KB\n"
     ]
    }
   ],
   "source": [
    "train_data.info()"
   ]
  },
  {
   "cell_type": "code",
   "execution_count": 8,
   "id": "51ab7494-9d32-41e6-80ca-206e75d2e197",
   "metadata": {},
   "outputs": [
    {
     "name": "stdout",
     "output_type": "stream",
     "text": [
      "<class 'pandas.core.frame.DataFrame'>\n",
      "RangeIndex: 47830 entries, 0 to 47829\n",
      "Data columns (total 5 columns):\n",
      " #   Column      Non-Null Count  Dtype  \n",
      "---  ------      --------------  -----  \n",
      " 0   image_file  47830 non-null  object \n",
      " 1   query_id    47830 non-null  object \n",
      " 2   score       47830 non-null  float64\n",
      " 3   yes         47830 non-null  int64  \n",
      " 4   no          47830 non-null  int64  \n",
      "dtypes: float64(1), int64(2), object(2)\n",
      "memory usage: 1.8+ MB\n"
     ]
    }
   ],
   "source": [
    "crowd_annotations.info()"
   ]
  },
  {
   "cell_type": "code",
   "execution_count": 9,
   "id": "aa754b2c-7593-4800-9b12-35e14d149ecb",
   "metadata": {},
   "outputs": [
    {
     "name": "stdout",
     "output_type": "stream",
     "text": [
      "<class 'pandas.core.frame.DataFrame'>\n",
      "RangeIndex: 5822 entries, 0 to 5821\n",
      "Data columns (total 5 columns):\n",
      " #   Column      Non-Null Count  Dtype \n",
      "---  ------      --------------  ----- \n",
      " 0   image_file  5822 non-null   object\n",
      " 1   query_id    5822 non-null   object\n",
      " 2   ex_1        5822 non-null   int64 \n",
      " 3   ex_2        5822 non-null   int64 \n",
      " 4   ex_3        5822 non-null   int64 \n",
      "dtypes: int64(3), object(2)\n",
      "memory usage: 227.6+ KB\n"
     ]
    }
   ],
   "source": [
    "expert_annotations.info()"
   ]
  },
  {
   "cell_type": "code",
   "execution_count": 10,
   "id": "077c1f58-7e39-4382-bbef-a4ae09586e8a",
   "metadata": {
    "scrolled": true
   },
   "outputs": [
    {
     "name": "stdout",
     "output_type": "stream",
     "text": [
      "<class 'pandas.core.frame.DataFrame'>\n",
      "Index: 500 entries, 0 to 499\n",
      "Data columns (total 3 columns):\n",
      " #   Column      Non-Null Count  Dtype \n",
      "---  ------      --------------  ----- \n",
      " 0   query_id    500 non-null    object\n",
      " 1   query_text  500 non-null    object\n",
      " 2   image       500 non-null    object\n",
      "dtypes: object(3)\n",
      "memory usage: 15.6+ KB\n"
     ]
    }
   ],
   "source": [
    "test_queries.info()"
   ]
  },
  {
   "cell_type": "markdown",
   "id": "dd0aa02d-3cad-41e4-8c8f-f8c52439f323",
   "metadata": {},
   "source": [
    "1. Очистка текста\n",
    "Сначала мы очистим текст в колонке query_text в датасете train_data:\n",
    "\n",
    "Приведение к нижнему регистру.\n",
    "Удаление небуквенных символов.\n",
    "Удаление лишних пробелов."
   ]
  },
  {
   "cell_type": "code",
   "execution_count": 12,
   "id": "d5f0445a-93d0-4ae2-9484-52f34461b688",
   "metadata": {},
   "outputs": [
    {
     "data": {
      "image/png": "[encoded data removed]",
      "text/plain": [
       "<Figure size 640x480 with 1 Axes>"
      ]
     },
     "metadata": {},
     "output_type": "display_data"
    }
   ],
   "source": [
    "# 1. Обработка данных экспертных оценок\n",
    "def aggregate_expert_scores(row):\n",
    "    scores = [row['ex_1'], row['ex_2'], row['ex_3']]\n",
    "    if len(set(scores)) == 3:  # Если все три оценки разные\n",
    "        return np.mean(scores)  # Используем среднее\n",
    "    return max(set(scores), key=scores.count)  # Голосование большинства\n",
    "\n",
    "# Применяем функцию для агрегирования оценок\n",
    "expert_annotations['aggregated_score'] = expert_annotations.apply(aggregate_expert_scores, axis=1)\n",
    "\n",
    "# Удаляем пары с конфликтующими оценками\n",
    "expert_annotations = expert_annotations.dropna(subset=['aggregated_score'])\n",
    "\n",
    "# Нормализуем итоговые оценки в диапазон [0, 1]\n",
    "expert_annotations['aggregated_score'] = expert_annotations['aggregated_score'] / 4\n",
    "\n",
    "# 2. Обработка данных краудсорсинговых оценок\n",
    "# Нормализация краудсорсинговой оценки\n",
    "crowd_annotations['crowd_score'] = crowd_annotations['score'] / crowd_annotations['score'].max()\n",
    "\n",
    "# Удаление дубликатов\n",
    "expert_annotations = expert_annotations.drop_duplicates(subset=['query_id'])\n",
    "crowd_annotations = crowd_annotations.drop_duplicates(subset=['query_id'])\n",
    "\n",
    "# 3. Объединение данных\n",
    "# Используем inner join для пересечения данных (можно заменить на outer или left при необходимости)\n",
    "merged_scores = pd.merge(\n",
    "    expert_annotations[['query_id', 'aggregated_score']],\n",
    "    crowd_annotations[['query_id', 'crowd_score']],\n",
    "    on='query_id',\n",
    "    how='inner'\n",
    ")\n",
    "\n",
    "# Итоговая целевая переменная с учетом коэффициентов\n",
    "merged_scores['final_score'] = (\n",
    "    0.6 * merged_scores['aggregated_score'] +\n",
    "    0.4 * merged_scores['crowd_score']\n",
    ")\n",
    "\n",
    "# Проверяем распределение final_score\n",
    "import matplotlib.pyplot as plt\n",
    "plt.hist(merged_scores['final_score'], bins=20, edgecolor='black')\n",
    "plt.title('Распределение final_score')\n",
    "plt.xlabel('Final Score')\n",
    "plt.ylabel('Frequency')\n",
    "plt.show()\n"
   ]
  },
  {
   "cell_type": "code",
   "execution_count": 13,
   "id": "c20a8938-2711-44d1-bccc-d441a1d4fd63",
   "metadata": {},
   "outputs": [],
   "source": [
    "import re\n",
    "\n",
    "# Функция для очистки текста\n",
    "def preprocess_text(text):\n",
    "    text = text.lower()  # Приведение к нижнему регистру\n",
    "    text = re.sub(r'[^a-zA-Z\\s]', '', text)  # Удаление небуквенных символов\n",
    "    text = re.sub(r'\\s+', ' ', text).strip()  # Удаление лишних пробелов\n",
    "    return text\n",
    "\n",
    "# Применяем очистку к колонке query_text\n",
    "train_data['clean_text'] = train_data['query_text'].apply(preprocess_text)"
   ]
  },
  {
   "cell_type": "code",
   "execution_count": 14,
   "id": "0320145f-c9e1-4edb-a5d0-2ee0f0f39c8f",
   "metadata": {},
   "outputs": [],
   "source": [
    "# Инициализация лемматизатора\n",
    "lemmatizer = WordNetLemmatizer()\n",
    "\n",
    "# Функция для токенизации и лемматизации\n",
    "def tokenize_and_lemmatize(text):\n",
    "    tokens = word_tokenize(text)  # Токенизация\n",
    "    lemmatized_tokens = [lemmatizer.lemmatize(token) for token in tokens]  # Лемматизация\n",
    "    return lemmatized_tokens\n",
    "\n",
    "# Применяем токенизацию и лемматизацию к очищенному тексту\n",
    "train_data['tokens'] = train_data['clean_text'].apply(tokenize_and_lemmatize)"
   ]
  },
  {
   "cell_type": "code",
   "execution_count": 15,
   "id": "5f648325-aa68-485a-b49c-eef11a2f3d8a",
   "metadata": {
    "scrolled": true
   },
   "outputs": [
    {
     "name": "stdout",
     "output_type": "stream",
     "text": [
      "['a', 'in', 'the', 'on', 'dog', 'is', 'and', 'with', 'man', 'of', 'two', 'white', 'woman', 'boy', 'girl', 'black', 'to', 'at', 'wearing', 'water', 'an', 'young', 'people', 'red', 'are', 'his', 'child', 'blue', 'while', 'through', 'little', 'down', 'brown', 'running', 'over', 'person', 'shirt', 'jump', 'run', 'playing', 'standing', 'ball', 'grass', 'front', 'beach', 'sitting', 'small', 'field', 'stand', 'snow', 'player', 'rock', 'riding', 'up', 'next', 'street', 'play', 'it', 'smiling', 'jumping', 'look', 'men', 'into', 'green', 'three', 'air', 'mouth', 'bike', 'one', 'walk', 'group', 'camera', 'off', 'mountain', 'dirt', 'by', 'pool', 'building', 'large', 'her', 'near', 'yellow', 'walking', 'crowd', 'tree', 'holding', 'top', 'hat', 'watch', 'ocean', 'jacket', 'swing', 'another', 'basketball', 'pink', 'background', 'river', 'from', 'football', 'soccer', 'kid', 'sits', 'along', 'city', 'uniform', 'path', 'race', 'being', 'beside', 'around', 'hill', 'orange', 'sand', 'outside', 'dressed', 'catch', 'some', 'car', 'sunglass', 'face', 'swimming', 'smile', 'posing', 'bicycle', 'looking', 'hair', 'purple', 'stick', 'for', 'surfer', 'other', 'baby', 'out', 'short', 'table', 'together', 'wave', 'hold', 'climb', 'adult', 'grey', 'ride', 'slide', 'dark', 'trick', 'outdoor', 'wall', 'their', 'he', 'brick', 'track', 'skateboarder', 'high', 'park', 'hand', 'wooden', 'tennis', 'behind', 'toy', 'sweater', 'forest', 'doing', 'picture', 'playground', 'day', 'leaf', 'four', 'trail', 'grassy', 'something', 'frisbee', 'snowboarder', 'each', 'back', 'kick', 'five', 'snowy', 'that', 'toddler', 'motorcycle', 'striped', 'sidewalk', 'chair', 'sled', 'try', 'ramp', 'fence', 'tan', 'bench', 'dress', 'number', 's', 'helmet', 'horse', 'taking', 'leap', 'rocky', 'dancing', 'them', 'climbing', 'ski', 'take', 'guy', 'sit', 'ground', 'head', 'foot', 'winter', 'wading', 'him', 'obstacle', 'others', 'ha', 'game', 'greyhound', 'fallen', 'subway', 'towards', 'colorful', 'arm', 'glass', 'talking', 'skier', 'clothing', 'shore', 'fighting', 'performing', 'board', 'hanging', 'across', 'fountain', 'leg', 'under', 'set', 'outfit', 'carrying', 'wood', 'suit', 'full', 'swinging', 'coming', 'boat', 'float', 'toward', 'road', 'sky', 'motocross', 'puppy', 'covered', 'rope', 'collar', 'sign', 'coat', 'pointing', 'hiking', 'dribble', 'costume', 'miami', 'statue', 'long', 'shot', 'racing', 'older', 'train', 'all', 'cliff', 'sunset', 'big', 'jersey', 'six', 'laying', 'baseball', 'tall', 'watching', 'asian', 'light', 'bird', 'stage', 'gray', 'chasing', 'whilst', 'splashing', 'sport', 'ice', 'backyard', 'team', 'body', 'boxing', 'nearby', 'scarf', 'backpack', 'course', 'splash', 'floor', 'sliding', 'onto', 'fishing', 'picnic', 'very', 'wet', 'make', 'rolling', 'attempting', 'clear', 'getting', 'ear', 'night', 'cap', 'event', 'house', 'weather', 'naked', 'muzzle', 'pose', 'room', 'eating', 'golden', 'against', 'middle', 'between', 'smaller', 'leash', 'distance', 'step', 'cellphone', 'dance', 'mud', 'trunk', 'sandy', 'hit', 'glove', 'cyclist', 'skateboard', 'rail', 'headband', 'which', 'denim', 'snowboard', 'life', 'climber', 'scale', 'staircase', 'line', 'side', 'cart', 'reading', 'bear', 'flying', 'pulling', 'concrete', 'block', 'structure', 'go', 'kneel', 'right', 'runner', 'rugby', 'balancing', 'restaurant', 'inside', 'waiting', 'several', 'laughing', 'base', 'vest', 'bucket', 'midair', 'asleep', 'officer', 'arizona', 'stream', 'motorcyclist', 'swim', 'state', 'skiing', 'hockey', 'empty', 'waterfall', 'above', 'piste', 'fly', 'throwing', 'swimmer', 'trying', 'stunt', 'after', 'rider', 'skate', 'window', 'warm', 'art', 'flower', 'bright', 'surfboard', 'lake', 'shallow', 'porch', 'biker', 'guitar', 'equipment', 'shoulder', 'rodeo', 'away', 'raise', 'court', 'backstroke', 'pile', 'animal', 'overlooking', 'aged', 'longhaired', 'motion', 'using', 'clothes', 'cross', 'crossing', 'ridden', 'paddle', 'lush', 'stroller', 'parked', 'deep', 'say', 'indoor', 'diving', 'finger', 'get', 'yard', 'many', 'couple', 'paddling', 'blond', 'patio', 'tackling', 'blanket', 'musician', 'surface', 'fight', 'upside', 'flag', 'paint', 'gather', 'instrument', 'larger', 'surfing', 'print', 'parking', 'tire', 'lot', 'nose', 'woodland', 'silver', 'scene', 'bubble', 'pull', 'gold', 'or', 'trampoline', 'wrinkled', 'safari', 'edge', 'cold', 'setting', 'point', 'courtyard', 'shaking', 'gym', 'past', 'strip', 'put', 'ready', 'drive', 'falling', 'eat', 'square', 'canoe', 'action', 'gathered', 'making', 'wheelie', 'kiddie', 'popping', 'metal', 'musical', 'close', 'were', 'station', 'audience', 'beard', 'braid', 'artist', 'student', 'rippling', 'they', 'plant', 'wing', 'care', 'bat', 'gate', 'rowing', 'ring', 'lit', 'romp', 'fat', 'playfully', 'mountaintop', 'cowboy', 'cloudy', 'who', 'stone', 'youth', 'food', 'thrown', 'landscape', 'themselves', 'bottom', 'below', 'carry', 'cement', 'israeli', 'skater', 'burn', 'inline', 'collie', 'jungle', 'she', 'furry', 'bank', 'sparkling', 'shopping', 'muzzled', 'baseman', 'underneath', 'community', 'goggles', 'bar', 'surf', 'hop', 'tent', 'branch', 'nice', 'lying', 'wakeboard', 'conoes', 'old', 'puddle', 'jet', 'rink', 'spot', 'identical', 'those', 'raked', 'atv', 'wrestle', 'chase', 'retriever', 'campfire', 'nash', 'skating', 'steve', 'outstretched', 'tube', 'ladder', 'sings', 'woodstacked', 'plastic', 'doe', 'dreadlock', 'shaggy', 'performer', 'log', 'messy', 'moving', 'cigarette', 'microphone', 'about', 'slope', 'snowcovered', 'coach', 'suv', 'newspaper', 'visible', 'bridge', 'dirty', 'gown', 'chased', 'jesus', 'turn', 'steam', 'einstein', 'rafting', 'albert', 'mirror', 'foreground', 'someone', 'spread', 'hardwood', 'carriage', 'attached', 'mask', 'pant', 'blonde', 'pensive', 'balance', 'word', 'hell', 'seat', 'inflatable', 'goal', 'handlebar', 'corkscrew', 'listening', 'luggage', 'object', 'flip', 'both', 'living', 'bundled', 'public', 'alongside', 'there', 'box', 'shoe', 'attempt', 'racetrack', 'lie', 'harness', 'beneath', 'show', 'raised', 'trailing', 'pole', 'cow', 'party', 'scream', 'wear', 'colored', 'sprayed', 'literature', 'stoop', 'spoon', 'handstand', 'spectate', 'emotionally', 'hind', 'during', 'facial', 'place', 'bulletproof', 'neon', 'going', 'eight', 'bee', 'follows', 'have', 'preparing', 'piece', 'swimsuit', 'himself', 'dj', 'profile', 'pajama', 'vehicle', 'observe', 'milkshake', 'chocolate', 'lip', 'pursing', 'barrette', 'placed', 'handrail', 'bus', 'reacts', 'gravel', 'dropping', 'wooded', 'scenic', 'area', 'terrain', 'perform', 'lawn', 'hawaiian', 'sniffing', 'footprint', 'row', 'corner', 'lizard', 'lady', 'pier', 'pig', 'mountaineer', 'similar', 'drink', 'tongue', 'seated', 'makeup', 'jewelry', 'stadium', 'pharmacy', 'plaza', 'attentively', 'peek', 'writing', 'marking', 'handle', 'orca', 'kissing', 'windsurfs', 'among', 'tshirt', 'meal', 'staring', 'match', 'mexican', 'crowded', 'motorbike', 'rappelling', 'range', 'far', 'ahead', 'pond', 'catholic', 'seaworld', 'theme', 'whale', 'martial', 'grind', 'expression', 'trackside', 'individual', 'peer', 'jean', 'stair', 'snowboarding', 'bay', 'forearm', 'dry', 'spray', 'chinese', 'cafe', 'low', 'furniture', 'poster', 'office', 'bend', 'ollies', 'grab', 'pounce', 'stop', 'palm', 'decorative', 'surrounded', 'garage', 'swiftly', 'market', 'land', 'carring', 'training', 'mule', 'homeless', 'pad', 'werewolf', 'elf', 'poodle', 'formal', 'bag', 'tunnel', 'spotted', 'fellow', 'bull', 'snowball', 'snowsuit', 'time', 'kneeling', 'airborne', 'following', 'dock', 'construction', 'military', 'mound', 'cone', 'item', 'platform', 'tackled', 'hurdle', 'avoid', 'music', 'boot', 'sunny', 'lift', 'lookout', 'jagged', 'chairlift', 'prepares', 'spash', 'shoot', 'itself', 'break', 'potted', 'headscarf', 'onlooker', 'lifted', 'boardwalk', 'tossed', 'member', 'drenched', 'letter', 'watercraft', 'horizontallystriped', 'rain', 'snack', 'referee', 'barrier', 'boogie', 'lay', 'happily', 'teenage', 'kayak', 'paw', 'ship', 'wetsuit', 'beige', 'sniff', 'cheek', 'lean', 'but', 'watery', 'eats', 'ganilla', 'drum', 'kitchen', 'pebble', 'sink', 'hitting', 'gras', 'topless', 'enjoying', 'police', 'parade', 'driveway', 'apple', 'embracing', 'punk', 'foam', 'view', 'smoking', 'roll', 'navy', 'bite', 'blow', 'pulley', 'uncut', 'seen', 'push', 'firework', 'cigar', 'mardi', 'fast', 'choppy', 'pierced', 'noodle', 'christmas', 'fairway', 'golfer', 'twirling', 'performs', 'hairstyle', 'hiker', 'trashcan', 'studio', 'talk', 'conference', 'suck', 'mess', 'spectator', 'kennel', 'part', 'flipping', 'pirate', 'binoculars', 'thumb', 'smear', 'sleep', 'shoreline', 'flight', 'jeep', 'sleeping', 'pas', 'alert', 'possibly', 'softball', 'wrapped', 'strike', 'parachute', 'paved', 'basset', 'hound', 'wakeboarder', 'nosedeep', 'blackrimmed', 'miasto', 'multicolored', 'tychy', 'saber', 'touch', 'kangaroo', 'floated', 'raft', 'school', 'mustache', 'tethered', 'vw', 'disheveled', 'leaping', 'carying', 'stuffed', 'creek', 'indian', 'fetch', 'whistle', 'sparkler', 'chalk', 'backwards', 'chief', 'photo', 'dive', 'facing', 'bikini', 'no', 'enjoys', 'presentation', 'shaded', 'pack', 'not', 'laptop', 'skyscraper', 'solitary', 'wearfing', 'held', 'sun', 'begin', 'opening', 'produce', 'tripod', 'tiled', 'assist', 'lipstick', 'showgirl', 'condition', 'foggy', 'screen', 'cricketer', 'sweatshirt', 'tattoo', 'armband', 'fame', 'hollywood', 'weas', 'sooner', 'wind', 'fit', 'involves', 'blown', 'string', 'pulled', 'rod', 'wheat', 'wagon', 'sticking', 'whipping', 'reach', 'aim', 'pumpkin', 'sheep', 'filled', 'plate', 'fireplace', 'hulahoop', 'symbol', 'how', 'blocking', 'bow', 'leaning', 'can', 'computer', 'cut', 'fancy', 'stump', 'end', 'cobblestone', 'wringing', 'teacher', 'instructs', 'rag', 'striking', 'tide', 'showing', 'different', 'african', 'racquet', 'store', 'bale', 'nursed', 'injured', 'herd', 'somebody', 'backset', 'downhill', 'rooster', 'obama', 'bathing', 'boulder', 'ribbon', 'slippery', 'descends', 'loader', 'rollerblader', 'hay', 'skydiver', 'mist', 'examine', 'tourist', 'casting', 'cloud', 'formation', 'blueish', 'cruise', 'aerodynamically', 'left', 'covering', 'eye', 'railing', 'racket', 'saturated', 'stool', 'gear', 'truck', 'silly', 'shadow', 'power', 'crouch', 'castle', 'product', 'jogger', 'demonstrating', 'approach', 'family', 'barren', 'pushing', 'friend', 'half', 'plane', 'chemical', 'mountaintops', 'suspender', 'riverbank', 'overshadows', 'pathway', 'purse', 'made', 'cordoned', 'snub', 'towarn', 'pipe', 'outdoors', 'neck', 'bare', 'nail', 'circle', 'ledge', 'beaded', 'smell', 'necklace', 'somthing', 'pacifier', 'horizontal', 'shocked', 'monkey', 'steep', 'deer', 'graffitied', 'hang', 'corn', 'splashed', 'muslim', 'figure', 'paintball', 'plywood', 'legging', 'skateboarding', 'move', 'demonstrates', 'tying', 'interesting', 'kilt', 'mohawk', 'weathered', 'brush', 'band', 'fedora', 'screech', 'slightly', 'graffiti', 'cereal', 'ivars', 'cob', 'guard', 'boxer', 'crown', 'hod', 'approaching', 'pebbly', 'naturally', 'formed', 'sleeved', 'almost', 'lonely', 'fan', 'halfsmile', 'mat', 'book', 'dangling', 'developing', 'nation', 'awning', 'burlap', 'happy', 'fairy', 'revealing', 'roof', 'dunked', 'squirted', 'shock', 'record', 'biting', 'curly', 'overhanging', 'video', 'coffee', 'shop', 'color', 'redheaded', 'forward', 'peddles', 'festival', 'mercury', 'pnc', 'motorbiker', 'racer', 'aerial', 'frown', 'dunking', 'doll', 'peeking', 'grin', 'kitten', 'clack', 'bowl', 'tank', 'groomed', 'got', 'bound', 'exercisewheel', 'humansize', 'cry', 'cheer', 'open', 'wellkept', 'closeup', 'lined', 'bush', 'squat', 'attire', 'headdress', 'towel', 'golf', 'club', 'unicycle', 'stairway', 'stained', 'moss', 'dozen', 'indoors', 'natural', 'sound', 'loading', 'poncho', 'pot', 'shirtless', 'crawling', 'be', 'appear', 'tail', 'sheer', 'inspecting', 'male', 'cannon', 'pointed', 'upward', 'tag', 'hoodie', 'parasail', 'retrives', 'streak', 'spain', 'actor', 'cake', 'birthday', 'calf', 'obscuring', 'pylon', 'own', 'competition', 'halfnaked', 'without', 'waterskiing', 'snake', 'residential', 'few', 'jacked', 'growling', 'enjoy', 'taken', 'protest', 'peaceful', 'pleasant', 'morning', 'merrygoround', 'donkey', 'competing', 'halloween', 'lighting', 'dumpster', 'ally', 'hug', 'bagpipe', 'check', 'free', 'terrier', 'pug', 'pick', 'leading', 'pit', 'flowery', 'twirl', 'dot', 'bottle', 'sprinkler', 'rottweiler', 'teenager', 'scrambling', 'net', 'fall', 'painting', 'turquoise', 'rush', 'father', 'couch', 'work', 'starting', 'round', 'readying', 'unique', 'crouching', 'limb', 'cream', 'door', 'multicolor', 'purina', 'incredible', 'challenge', 'mouthing', 'crystal', 'vaulting', 'ridge', 'driving', 'nervous', 'having', 'straight', 'extended', 'waist', 'sash', 'reaching', 'airplane', 'slinky', 'cover', 'whom', 'patterned', 'same', 'knit', 'wiht', 'shake', 'trip', 'traffic', 'wade', 'refugee', 'height', 'great', 'you', 'drop', 'escalator', 'evening', 'lawnmower', 'helmeted', 'counter', 'hooded', 'film', 'whispering', 'sheltie', 'karate', 'barrel', 'whitecolored', 'practicing', 'exhaust', 'flame', 'policeman', 'uncrowded', 'ampitheater', 'surprised', 'buena', 'directing', 'scooter', 'center', 'fish', 'bmx', 'yerba', 'entrance', 'carnival', 'bed', 'alone', 'hardhat', 'give', 'doghouse', 'crevice', 'smelled', 'cruising', 'bouncy', 'gathering', 'i', 'contest', 'collaborating', 'official', 'practice', 'bounce', 'putting', 'pine', 'chewing', 'order', 'signaling', 'unfinished', 'space', 'mushing', 'chip', 'backdrop', 'real', 'celebrating', 'st', 'cushion', 'patrick', 'observing', 'talent', 'change', 'perspective', 'jib', 'filmed', 'mitt', 'bride', 'clipped', 'weimaraner', 'blurry']\n"
     ]
    }
   ],
   "source": [
    "from nltk.probability import FreqDist\n",
    "import pandas as pd\n",
    "\n",
    "# Собираем все токены из датасета\n",
    "tokens_list = [token for tokens in train_data['tokens'] for token in tokens]\n",
    "\n",
    "# Частотный анализ\n",
    "freq_dist = FreqDist(tokens_list)\n",
    "\n",
    "# Создание DataFrame с частотностью\n",
    "freq_df = pd.DataFrame.from_dict(freq_dist, orient='index', columns=['freq'])\n",
    "freq_df = freq_df.sort_values(by='freq', ascending=False)\n",
    "\n",
    "# Просмотр 50 наиболее частых слов\n",
    "print(freq_df.index.tolist())"
   ]
  },
  {
   "cell_type": "code",
   "execution_count": 16,
   "id": "a9d3a266-b1de-4b16-b265-198cdde3cabe",
   "metadata": {},
   "outputs": [],
   "source": [
    "# Список запрещённых слов, связанных с детьми\n",
    "child_related_keywords = ['child', 'baby', 'kid', 'toddler', 'teenager']"
   ]
  },
  {
   "cell_type": "code",
   "execution_count": 17,
   "id": "41c40d75-e87a-483d-8774-5facd5b24854",
   "metadata": {},
   "outputs": [
    {
     "name": "stdout",
     "output_type": "stream",
     "text": [
      "Исключено 2399 записей, связанных с детьми.\n"
     ]
    }
   ],
   "source": [
    "# Функция для проверки наличия слов, связанных с детьми\n",
    "def contains_child_keywords(tokens, keywords=child_related_keywords):\n",
    "    return any(token in keywords for token in tokens)\n",
    "\n",
    "# Помечаем записи, связанные с детьми\n",
    "train_data['child_related'] = train_data['tokens'].apply(contains_child_keywords)\n",
    "\n",
    "# Список изображений для исключения\n",
    "excluded_images = train_data[train_data['child_related']]['image'].unique()\n",
    "\n",
    "# Фильтрация данных\n",
    "filtered_train_data = train_data[~train_data['image'].isin(excluded_images)].copy()\n",
    "\n",
    "# Итоговый вывод\n",
    "print(f\"Исключено {len(train_data) - len(filtered_train_data)} записей, связанных с детьми.\")"
   ]
  },
  {
   "cell_type": "code",
   "execution_count": 18,
   "id": "bf00cdd4-fe91-4e43-b7cf-b9430b592c0d",
   "metadata": {},
   "outputs": [
    {
     "name": "stdout",
     "output_type": "stream",
     "text": [
      "<class 'pandas.core.frame.DataFrame'>\n",
      "Index: 3423 entries, 14 to 5821\n",
      "Data columns (total 6 columns):\n",
      " #   Column         Non-Null Count  Dtype \n",
      "---  ------         --------------  ----- \n",
      " 0   image          3423 non-null   object\n",
      " 1   query_id       3423 non-null   object\n",
      " 2   query_text     3423 non-null   object\n",
      " 3   clean_text     3423 non-null   object\n",
      " 4   tokens         3423 non-null   object\n",
      " 5   child_related  3423 non-null   bool  \n",
      "dtypes: bool(1), object(5)\n",
      "memory usage: 163.8+ KB\n"
     ]
    }
   ],
   "source": [
    "filtered_train_data.info()"
   ]
  },
  {
   "cell_type": "code",
   "execution_count": 19,
   "id": "42095713-e070-4018-b5ac-55a5473a52b2",
   "metadata": {},
   "outputs": [
    {
     "data": {
      "application/vnd.jupyter.widget-view+json": {
       "model_id": "0116ab73b51942b58ddec53fad690464",
       "version_major": 2,
       "version_minor": 0
      },
      "text/plain": [
       "  0%|          | 0/182 [00:00<?, ?it/s]"
      ]
     },
     "metadata": {},
     "output_type": "display_data"
    }
   ],
   "source": [
    "from tqdm.notebook import tqdm\n",
    "from transformers import BertTokenizer, BertModel\n",
    "import torch\n",
    "\n",
    "# Проверяем доступность устройства\n",
    "device = torch.device('cuda' if torch.cuda.is_available() else 'cpu')\n",
    "\n",
    "# Загружаем токенизатор и модель BERT\n",
    "tokenizer = BertTokenizer.from_pretrained('bert-base-uncased')\n",
    "model_emb_txt = BertModel.from_pretrained('bert-base-uncased').to(device)\n",
    "\n",
    "# Функция для токенизации и создания эмбеддингов текста\n",
    "def get_text_embeddings(texts, batch_size=32):\n",
    "    tokenized = [tokenizer.encode(text, max_length=512, truncation=True, add_special_tokens=True) for text in texts]\n",
    "    padded = torch.nn.utils.rnn.pad_sequence([torch.tensor(seq) for seq in tokenized], batch_first=True)\n",
    "    attention_mask = (padded > 0).to(device)\n",
    "    \n",
    "    embeddings = []\n",
    "    for i in tqdm(range(0, len(padded), batch_size)):\n",
    "        batch = padded[i:i + batch_size].to(device)\n",
    "        attention_mask_batch = attention_mask[i:i + batch_size]\n",
    "        \n",
    "        with torch.no_grad():\n",
    "            outputs = model_emb_txt(batch, attention_mask=attention_mask_batch)\n",
    "            batch_embeddings = outputs.last_hidden_state[:, 0, :].cpu().numpy()\n",
    "        embeddings.append(batch_embeddings)\n",
    "    \n",
    "    return np.vstack(embeddings)\n",
    "\n",
    "# Получаем эмбеддинги текстов\n",
    "train_data['text_embeddings'] = list(get_text_embeddings(train_data['query_text']))\n"
   ]
  },
  {
   "cell_type": "code",
   "execution_count": 20,
   "id": "a5f5ec88-eab6-4e56-a4f3-f3f23b336b14",
   "metadata": {},
   "outputs": [
    {
     "data": {
      "application/vnd.jupyter.widget-view+json": {
       "model_id": "e4d58f66988f4effb78e949777b50eff",
       "version_major": 2,
       "version_minor": 0
      },
      "text/plain": [
       "  0%|          | 0/63 [00:00<?, ?it/s]"
      ]
     },
     "metadata": {},
     "output_type": "display_data"
    }
   ],
   "source": [
    "from torchvision.models import resnet18, ResNet18_Weights\n",
    "from torchvision import transforms\n",
    "from PIL import Image\n",
    "import os\n",
    "from tqdm.notebook import tqdm\n",
    "import numpy as np\n",
    "import torch\n",
    "\n",
    "# Устанавливаем путь к папке с изображениями\n",
    "IMAGE_DIR = '/Users/chajartem/Yandex_Praktikum_DS2024_datasetst/to_upload/train_images'\n",
    "\n",
    "# Загрузка модели ResNet\n",
    "resnet = resnet18(weights=ResNet18_Weights.DEFAULT).to(device)\n",
    "resnet = torch.nn.Sequential(*list(resnet.children())[:-1])  # Убираем последний слой\n",
    "resnet.eval()\n",
    "\n",
    "# Преобразование изображений\n",
    "preprocess = transforms.Compose([\n",
    "    transforms.Resize(256),\n",
    "    transforms.CenterCrop(224),\n",
    "    transforms.ToTensor(),\n",
    "    transforms.Normalize(mean=[0.485, 0.456, 0.406], std=[0.229, 0.224, 0.225])\n",
    "])\n",
    "\n",
    "# Функция для векторизации изображений\n",
    "def get_image_embeddings(image_list, image_dir, batch_size=16):\n",
    "    embeddings = []\n",
    "    for i in tqdm(range(0, len(image_list), batch_size)):\n",
    "        batch_images = []\n",
    "        for img_name in image_list[i:i + batch_size]:\n",
    "            img_path = os.path.join(image_dir, img_name)\n",
    "            try:\n",
    "                image = Image.open(img_path).convert('RGB')\n",
    "                image_tensor = preprocess(image).unsqueeze(0).to(device)\n",
    "                batch_images.append(image_tensor)\n",
    "            except Exception as e:\n",
    "                print(f\"Ошибка при обработке {img_name}: {e}\")\n",
    "        \n",
    "        if batch_images:\n",
    "            batch_images = torch.cat(batch_images)\n",
    "            with torch.no_grad():\n",
    "                batch_embeddings = resnet(batch_images).flatten(start_dim=1).cpu().numpy()\n",
    "            embeddings.append(batch_embeddings)\n",
    "    \n",
    "    return np.vstack(embeddings)\n",
    "\n",
    "# Получение списка уникальных изображений\n",
    "unique_images = train_data['image'].unique()\n",
    "\n",
    "# Векторизация изображений\n",
    "image_vectors = get_image_embeddings(unique_images, IMAGE_DIR)\n",
    "\n",
    "# Сопоставляем изображения и их векторы\n",
    "image_embeddings = dict(zip(unique_images, image_vectors))\n",
    "\n",
    "# Добавляем вектор изображения в train_data\n",
    "train_data['image_vector'] = train_data['image'].map(image_embeddings)"
   ]
  },
  {
   "cell_type": "code",
   "execution_count": 21,
   "id": "7bd02128-3aa2-4eda-a58e-4334e51c81ab",
   "metadata": {},
   "outputs": [
    {
     "name": "stdout",
     "output_type": "stream",
     "text": [
      "Размер текстового эмбеддинга: 768\n",
      "Размер визуального эмбеддинга: 512\n",
      "Размер объединённого вектора: 1280\n"
     ]
    }
   ],
   "source": [
    "# Объединение текстовых и визуальных эмбеддингов\n",
    "train_data['concatenated_vector'] = train_data.apply(\n",
    "    lambda row: np.concatenate([row['text_embeddings'], row['image_vector']]),\n",
    "    axis=1\n",
    ")\n",
    "\n",
    "# Проверяем размеры объединённых векторов\n",
    "print(f\"Размер текстового эмбеддинга: {len(train_data.iloc[0]['text_embeddings'])}\")\n",
    "print(f\"Размер визуального эмбеддинга: {len(train_data.iloc[0]['image_vector'])}\")\n",
    "print(f\"Размер объединённого вектора: {len(train_data.iloc[0]['concatenated_vector'])}\")\n"
   ]
  },
  {
   "cell_type": "code",
   "execution_count": 22,
   "id": "736724a2-dfb2-40fb-bc7f-0e402713c42b",
   "metadata": {},
   "outputs": [
    {
     "name": "stdout",
     "output_type": "stream",
     "text": [
      "<class 'pandas.core.frame.DataFrame'>\n",
      "RangeIndex: 5822 entries, 0 to 5821\n",
      "Data columns (total 9 columns):\n",
      " #   Column               Non-Null Count  Dtype \n",
      "---  ------               --------------  ----- \n",
      " 0   image                5822 non-null   object\n",
      " 1   query_id             5822 non-null   object\n",
      " 2   query_text           5822 non-null   object\n",
      " 3   clean_text           5822 non-null   object\n",
      " 4   tokens               5822 non-null   object\n",
      " 5   child_related        5822 non-null   bool  \n",
      " 6   text_embeddings      5822 non-null   object\n",
      " 7   image_vector         5822 non-null   object\n",
      " 8   concatenated_vector  5822 non-null   object\n",
      "dtypes: bool(1), object(8)\n",
      "memory usage: 369.7+ KB\n"
     ]
    }
   ],
   "source": [
    "train_data.info()"
   ]
  },
  {
   "cell_type": "code",
   "execution_count": 23,
   "id": "a45a047f-67ed-404d-8710-a847f7074d02",
   "metadata": {},
   "outputs": [
    {
     "name": "stdout",
     "output_type": "stream",
     "text": [
      "                       image  \\\n",
      "0  1056338697_4f7d7ce270.jpg   \n",
      "1  1262583859_653f1469a9.jpg   \n",
      "2  2447284966_d6bbdb4b6e.jpg   \n",
      "3  2549968784_39bfbe44f9.jpg   \n",
      "4  2621415349_ef1a7e73be.jpg   \n",
      "\n",
      "                                 concatenated_vector  final_score  \n",
      "0  [-0.047877204, 0.051415317, -0.27281323, -0.07...         0.15  \n",
      "1  [-0.047877204, 0.051415317, -0.27281323, -0.07...         0.15  \n",
      "2  [-0.047877204, 0.051415317, -0.27281323, -0.07...         0.15  \n",
      "3  [-0.047877204, 0.051415317, -0.27281323, -0.07...         0.15  \n",
      "4  [-0.047877204, 0.051415317, -0.27281323, -0.07...         0.15  \n"
     ]
    }
   ],
   "source": [
    "# Объединяем оценки с векторами изображений и текстов\n",
    "\n",
    "# Объединяем merged_scores с train_data\n",
    "train_with_scores = pd.merge(\n",
    "    train_data,\n",
    "    merged_scores[['query_id', 'final_score']],\n",
    "    on='query_id',\n",
    "    how='inner'\n",
    ")\n",
    "\n",
    "# Объединяем текстовые и визуальные эмбеддинги в один вектор\n",
    "train_with_scores['concatenated_vector'] = train_with_scores.apply(\n",
    "    lambda row: np.concatenate([row['text_embeddings'], row['image_vector']]),\n",
    "    axis=1\n",
    ")\n",
    "\n",
    "# Формируем итоговый датасет\n",
    "final_dataset = train_with_scores[['image', 'concatenated_vector', 'final_score']]\n",
    "\n",
    "# Проверяем итоговую структуру\n",
    "print(final_dataset.head())"
   ]
  },
  {
   "cell_type": "code",
   "execution_count": 24,
   "id": "7c89d3eb-0db3-440d-9b21-4a21250b8085",
   "metadata": {},
   "outputs": [
    {
     "name": "stdout",
     "output_type": "stream",
     "text": [
      "Размер train_data: (5822, 9)\n",
      "Размер merged_scores: (977, 4)\n"
     ]
    }
   ],
   "source": [
    "print(f\"Размер train_data: {train_data.shape}\")\n",
    "print(f\"Размер merged_scores: {merged_scores.shape}\")"
   ]
  },
  {
   "cell_type": "code",
   "execution_count": 25,
   "id": "d9631c45-e89c-444d-b9e0-43c46542560e",
   "metadata": {},
   "outputs": [],
   "source": [
    "from sklearn.model_selection import GroupShuffleSplit\n",
    "from sklearn.preprocessing import StandardScaler\n",
    "\n",
    "# Разделение данных на тренировочную и тестовую выборки с учётом группировки по изображениям\n",
    "gss = GroupShuffleSplit(n_splits=1, train_size=0.8, random_state=42)\n",
    "train_indices, test_indices = next(gss.split(final_dataset, \n",
    "                                             groups=final_dataset['image']))\n"
   ]
  },
  {
   "cell_type": "code",
   "execution_count": 26,
   "id": "5e29027e-37b9-42cc-990f-cd2f2a857916",
   "metadata": {},
   "outputs": [
    {
     "name": "stdout",
     "output_type": "stream",
     "text": [
      "<class 'pandas.core.frame.DataFrame'>\n",
      "RangeIndex: 5822 entries, 0 to 5821\n",
      "Data columns (total 3 columns):\n",
      " #   Column               Non-Null Count  Dtype  \n",
      "---  ------               --------------  -----  \n",
      " 0   image                5822 non-null   object \n",
      " 1   concatenated_vector  5822 non-null   object \n",
      " 2   final_score          5822 non-null   float64\n",
      "dtypes: float64(1), object(2)\n",
      "memory usage: 136.6+ KB\n"
     ]
    }
   ],
   "source": [
    "final_dataset.info()"
   ]
  },
  {
   "cell_type": "code",
   "execution_count": 27,
   "id": "c908cb79-4772-45ad-a565-31169c4b7a43",
   "metadata": {},
   "outputs": [
    {
     "name": "stdout",
     "output_type": "stream",
     "text": [
      "Размер X_train: (4671, 1280), Размер y_train: (4671,)\n",
      "Размер X_test: (1151, 1280), Размер y_test: (1151,)\n"
     ]
    }
   ],
   "source": [
    "train_df = final_dataset.iloc[train_indices]\n",
    "test_df = final_dataset.iloc[test_indices]\n",
    "\n",
    "# Преобразуем данные в массивы\n",
    "X_train = np.stack(train_df['concatenated_vector'])\n",
    "X_test = np.stack(test_df['concatenated_vector'])\n",
    "y_train = train_df['final_score'].values\n",
    "y_test = test_df['final_score'].values\n",
    "\n",
    "# Нормализация признаков\n",
    "scaler = StandardScaler()\n",
    "X_train_scaled = scaler.fit_transform(X_train)\n",
    "X_test_scaled = scaler.transform(X_test)\n",
    "\n",
    "# Проверим размерности данных\n",
    "print(f\"Размер X_train: {X_train_scaled.shape}, Размер y_train: {y_train.shape}\")\n",
    "print(f\"Размер X_test: {X_test_scaled.shape}, Размер y_test: {y_test.shape}\")"
   ]
  },
  {
   "cell_type": "code",
   "execution_count": 28,
   "id": "d81d3f4d-fbc7-4b59-ba6f-e03af4b16db7",
   "metadata": {},
   "outputs": [
    {
     "name": "stdout",
     "output_type": "stream",
     "text": [
      "image                  0\n",
      "concatenated_vector    0\n",
      "final_score            0\n",
      "dtype: int64\n",
      "image                   object\n",
      "concatenated_vector     object\n",
      "final_score            float64\n",
      "dtype: object\n",
      "count    5822.0\n",
      "mean     1280.0\n",
      "std         0.0\n",
      "min      1280.0\n",
      "25%      1280.0\n",
      "50%      1280.0\n",
      "75%      1280.0\n",
      "max      1280.0\n",
      "Name: concatenated_vector, dtype: float64\n"
     ]
    }
   ],
   "source": [
    "# Проверка на пропуски\n",
    "print(final_dataset.isnull().sum())\n",
    "\n",
    "# Проверка типов данных\n",
    "print(final_dataset.dtypes)\n",
    "\n",
    "# Проверка длины векторов\n",
    "print(final_dataset['concatenated_vector'].apply(len).describe())\n"
   ]
  },
  {
   "cell_type": "code",
   "execution_count": 29,
   "id": "efcd08d1-4f81-400d-b7be-a372ac1f6c5d",
   "metadata": {},
   "outputs": [
    {
     "name": "stdout",
     "output_type": "stream",
     "text": [
      "Train indices: [0 1 2 3 4]\n",
      "Test indices: [ 7 14 18 19 35]\n",
      "Количество общих изображений в train и test: 0\n"
     ]
    }
   ],
   "source": [
    "print(f\"Train indices: {train_indices[:5]}\")\n",
    "print(f\"Test indices: {test_indices[:5]}\")\n",
    "\n",
    "# Проверим пересечение между train и test\n",
    "common_images = set(train_df['image']).intersection(set(test_df['image']))\n",
    "print(f\"Количество общих изображений в train и test: {len(common_images)}\")\n"
   ]
  },
  {
   "cell_type": "code",
   "execution_count": 30,
   "id": "ebd20404-61af-4538-a689-a7114ed94813",
   "metadata": {},
   "outputs": [
    {
     "name": "stdout",
     "output_type": "stream",
     "text": [
      "Тип X_train: <class 'numpy.ndarray'>, Размер: (4671, 1280)\n",
      "Тип X_test: <class 'numpy.ndarray'>, Размер: (1151, 1280)\n"
     ]
    }
   ],
   "source": [
    "print(f\"Тип X_train: {type(X_train)}, Размер: {X_train.shape}\")\n",
    "print(f\"Тип X_test: {type(X_test)}, Размер: {X_test.shape}\")"
   ]
  },
  {
   "cell_type": "code",
   "execution_count": 31,
   "id": "a64ba73c-9c9f-4eae-98ea-6af89f468013",
   "metadata": {},
   "outputs": [
    {
     "name": "stdout",
     "output_type": "stream",
     "text": [
      "Train MSE: 0.0021\n",
      "Test MSE: 0.0090\n"
     ]
    }
   ],
   "source": [
    "from sklearn.linear_model import LinearRegression\n",
    "from sklearn.metrics import mean_squared_error\n",
    "\n",
    "# Создаем и обучаем модель\n",
    "model = LinearRegression()\n",
    "model.fit(X_train_scaled, y_train)\n",
    "\n",
    "# Предсказания\n",
    "y_pred_train = model.predict(X_train_scaled)\n",
    "y_pred_test = model.predict(X_test_scaled)\n",
    "\n",
    "# Оценка модели\n",
    "train_mse = mean_squared_error(y_train, y_pred_train)\n",
    "test_mse = mean_squared_error(y_test, y_pred_test)\n",
    "\n",
    "print(f\"Train MSE: {train_mse:.4f}\")\n",
    "print(f\"Test MSE: {test_mse:.4f}\")"
   ]
  },
  {
   "cell_type": "code",
   "execution_count": 32,
   "id": "165eb614-9a9f-42bc-a879-057a1c4ccdd9",
   "metadata": {},
   "outputs": [
    {
     "name": "stdout",
     "output_type": "stream",
     "text": [
      "Epoch 10/50, Train Loss: 0.0204, Test Loss: 0.0196\n",
      "Epoch 20/50, Train Loss: 0.0108, Test Loss: 0.0132\n",
      "Epoch 30/50, Train Loss: 0.0055, Test Loss: 0.0107\n",
      "Epoch 40/50, Train Loss: 0.0030, Test Loss: 0.0090\n",
      "Epoch 50/50, Train Loss: 0.0016, Test Loss: 0.0080\n"
     ]
    }
   ],
   "source": [
    "import torch.nn as nn\n",
    "import torch.optim as optim\n",
    "\n",
    "# Определяем модель\n",
    "class MLPModel(nn.Module):\n",
    "    def __init__(self, input_dim):\n",
    "        super(MLPModel, self).__init__()\n",
    "        self.network = nn.Sequential(\n",
    "            nn.Linear(input_dim, 512),\n",
    "            nn.ReLU(),\n",
    "            nn.Linear(512, 256),\n",
    "            nn.ReLU(),\n",
    "            nn.Linear(256, 1)\n",
    "        )\n",
    "    \n",
    "    def forward(self, x):\n",
    "        return self.network(x)\n",
    "\n",
    "# Инициализация модели, оптимизатора и функции потерь\n",
    "input_dim = X_train_scaled.shape[1]\n",
    "model = MLPModel(input_dim).to(device)\n",
    "criterion = nn.MSELoss()\n",
    "optimizer = optim.Adam(model.parameters(), lr=0.001)\n",
    "\n",
    "# Преобразование данных в тензоры\n",
    "X_train_tensor = torch.tensor(X_train_scaled, dtype=torch.float32).to(device)\n",
    "y_train_tensor = torch.tensor(y_train, dtype=torch.float32).unsqueeze(1).to(device)\n",
    "X_test_tensor = torch.tensor(X_test_scaled, dtype=torch.float32).to(device)\n",
    "y_test_tensor = torch.tensor(y_test, dtype=torch.float32).unsqueeze(1).to(device)\n",
    "\n",
    "# Обучение модели\n",
    "num_epochs = 50\n",
    "for epoch in range(num_epochs):\n",
    "    model.train()\n",
    "    optimizer.zero_grad()\n",
    "    predictions = model(X_train_tensor)\n",
    "    loss = criterion(predictions, y_train_tensor)\n",
    "    loss.backward()\n",
    "    optimizer.step()\n",
    "\n",
    "    # Вывод метрики каждые 10 эпох\n",
    "    if (epoch + 1) % 10 == 0:\n",
    "        model.eval()\n",
    "        with torch.no_grad():\n",
    "            test_predictions = model(X_test_tensor)\n",
    "            test_loss = criterion(test_predictions, y_test_tensor).item()\n",
    "        print(f\"Epoch {epoch+1}/{num_epochs}, Train Loss: {loss.item():.4f}, Test Loss: {test_loss:.4f}\")\n"
   ]
  },
  {
   "cell_type": "code",
   "execution_count": 33,
   "id": "e2556d6a-25a5-4361-b019-a69951828227",
   "metadata": {},
   "outputs": [
    {
     "name": "stdout",
     "output_type": "stream",
     "text": [
      "R^2 на тестовой выборке: 0.5749\n"
     ]
    }
   ],
   "source": [
    "from sklearn.metrics import r2_score\n",
    "\n",
    "test_predictions_np = test_predictions.cpu().numpy()\n",
    "r2 = r2_score(y_test, test_predictions_np)\n",
    "print(f\"R^2 на тестовой выборке: {r2:.4f}\")"
   ]
  },
  {
   "cell_type": "code",
   "execution_count": 34,
   "id": "f7c15b52-de6c-4dfc-a074-3cc19649d852",
   "metadata": {},
   "outputs": [
    {
     "name": "stderr",
     "output_type": "stream",
     "text": [
      "[I 2024-12-10 15:27:52,896] A new study created in memory with name: no-name-c24bd083-3947-4aeb-9307-cab377ed8974\n",
      "/var/folders/w6/dr6wrr0962d5n5ws0rghxq640000gn/T/ipykernel_38073/1671758717.py:9: FutureWarning: suggest_loguniform has been deprecated in v3.0.0. This feature will be removed in v6.0.0. See https://github.com/optuna/optuna/releases/tag/v3.0.0. Use suggest_float(..., log=True) instead.\n",
      "  lr = trial.suggest_loguniform(\"lr\", 1e-4, 1e-2)\n",
      "[I 2024-12-10 15:27:54,118] Trial 0 finished with value: 0.035784464329481125 and parameters: {'hidden_dim1': 384, 'hidden_dim2': 512, 'dropout_rate': 0.1, 'lr': 0.005538052002208197}. Best is trial 0 with value: 0.035784464329481125.\n",
      "[I 2024-12-10 15:27:55,450] Trial 1 finished with value: 0.016780423000454903 and parameters: {'hidden_dim1': 640, 'hidden_dim2': 256, 'dropout_rate': 0.5, 'lr': 0.00011400730947327706}. Best is trial 1 with value: 0.016780423000454903.\n",
      "[I 2024-12-10 15:27:56,270] Trial 2 finished with value: 0.016435960307717323 and parameters: {'hidden_dim1': 256, 'hidden_dim2': 448, 'dropout_rate': 0.4, 'lr': 0.00014184421494988416}. Best is trial 2 with value: 0.016435960307717323.\n",
      "[I 2024-12-10 15:27:56,914] Trial 3 finished with value: 0.01296616718173027 and parameters: {'hidden_dim1': 256, 'hidden_dim2': 320, 'dropout_rate': 0.30000000000000004, 'lr': 0.0013022166949006782}. Best is trial 3 with value: 0.01296616718173027.\n",
      "[I 2024-12-10 15:27:57,995] Trial 4 finished with value: 0.061666540801525116 and parameters: {'hidden_dim1': 384, 'hidden_dim2': 448, 'dropout_rate': 0.30000000000000004, 'lr': 0.003968130374998548}. Best is trial 3 with value: 0.01296616718173027.\n",
      "[I 2024-12-10 15:27:58,385] Trial 5 finished with value: 0.014038247987627983 and parameters: {'hidden_dim1': 128, 'hidden_dim2': 192, 'dropout_rate': 0.5, 'lr': 0.0017347996683542163}. Best is trial 3 with value: 0.01296616718173027.\n",
      "[I 2024-12-10 15:28:01,230] Trial 6 finished with value: 0.05313755199313164 and parameters: {'hidden_dim1': 1024, 'hidden_dim2': 512, 'dropout_rate': 0.4, 'lr': 0.0015682047913156043}. Best is trial 3 with value: 0.01296616718173027.\n",
      "[I 2024-12-10 15:28:01,823] Trial 7 finished with value: 0.01283860020339489 and parameters: {'hidden_dim1': 256, 'hidden_dim2': 192, 'dropout_rate': 0.1, 'lr': 0.0013888774321217407}. Best is trial 7 with value: 0.01283860020339489.\n",
      "[I 2024-12-10 15:28:03,672] Trial 8 finished with value: 0.018393661826848984 and parameters: {'hidden_dim1': 896, 'hidden_dim2': 256, 'dropout_rate': 0.30000000000000004, 'lr': 0.0010466307355068366}. Best is trial 7 with value: 0.01283860020339489.\n",
      "[I 2024-12-10 15:28:04,095] Trial 9 finished with value: 0.014927554875612259 and parameters: {'hidden_dim1': 256, 'hidden_dim2': 64, 'dropout_rate': 0.4, 'lr': 0.0004784387221579482}. Best is trial 7 with value: 0.01283860020339489.\n",
      "[I 2024-12-10 15:28:05,220] Trial 10 finished with value: 0.009030180983245373 and parameters: {'hidden_dim1': 640, 'hidden_dim2': 64, 'dropout_rate': 0.1, 'lr': 0.0003760738656891948}. Best is trial 10 with value: 0.009030180983245373.\n",
      "[I 2024-12-10 15:28:06,315] Trial 11 finished with value: 0.010283068753778934 and parameters: {'hidden_dim1': 640, 'hidden_dim2': 64, 'dropout_rate': 0.1, 'lr': 0.0003373093468309271}. Best is trial 10 with value: 0.009030180983245373.\n",
      "[I 2024-12-10 15:28:07,451] Trial 12 finished with value: 0.013459893874824047 and parameters: {'hidden_dim1': 640, 'hidden_dim2': 64, 'dropout_rate': 0.2, 'lr': 0.00034516728467977624}. Best is trial 10 with value: 0.009030180983245373.\n",
      "[I 2024-12-10 15:28:08,865] Trial 13 finished with value: 0.013040449470281601 and parameters: {'hidden_dim1': 768, 'hidden_dim2': 128, 'dropout_rate': 0.2, 'lr': 0.00035385686433639575}. Best is trial 10 with value: 0.009030180983245373.\n",
      "[I 2024-12-10 15:28:09,755] Trial 14 finished with value: 0.011201119050383568 and parameters: {'hidden_dim1': 512, 'hidden_dim2': 64, 'dropout_rate': 0.1, 'lr': 0.0005065449562620554}. Best is trial 10 with value: 0.009030180983245373.\n",
      "[I 2024-12-10 15:28:11,176] Trial 15 finished with value: 0.009854604490101337 and parameters: {'hidden_dim1': 768, 'hidden_dim2': 128, 'dropout_rate': 0.2, 'lr': 0.00021115638801888893}. Best is trial 10 with value: 0.009030180983245373.\n",
      "[I 2024-12-10 15:28:12,836] Trial 16 finished with value: 0.011778769083321095 and parameters: {'hidden_dim1': 896, 'hidden_dim2': 128, 'dropout_rate': 0.2, 'lr': 0.00018324686185395292}. Best is trial 10 with value: 0.009030180983245373.\n",
      "[I 2024-12-10 15:28:14,244] Trial 17 finished with value: 0.01336659025400877 and parameters: {'hidden_dim1': 768, 'hidden_dim2': 128, 'dropout_rate': 0.2, 'lr': 0.00021037032798390464}. Best is trial 10 with value: 0.009030180983245373.\n",
      "[I 2024-12-10 15:28:15,927] Trial 18 finished with value: 0.012485824525356293 and parameters: {'hidden_dim1': 768, 'hidden_dim2': 320, 'dropout_rate': 0.2, 'lr': 0.000611134022406588}. Best is trial 10 with value: 0.009030180983245373.\n",
      "[I 2024-12-10 15:28:16,956] Trial 19 finished with value: 0.014375712722539902 and parameters: {'hidden_dim1': 512, 'hidden_dim2': 192, 'dropout_rate': 0.1, 'lr': 0.0002150349194328517}. Best is trial 10 with value: 0.009030180983245373.\n",
      "[I 2024-12-10 15:28:19,091] Trial 20 finished with value: 0.06172497570514679 and parameters: {'hidden_dim1': 1024, 'hidden_dim2': 128, 'dropout_rate': 0.2, 'lr': 0.0027942570403736216}. Best is trial 10 with value: 0.009030180983245373.\n",
      "[I 2024-12-10 15:28:20,401] Trial 21 finished with value: 0.012785395607352257 and parameters: {'hidden_dim1': 640, 'hidden_dim2': 64, 'dropout_rate': 0.1, 'lr': 0.00031268755117629387}. Best is trial 10 with value: 0.009030180983245373.\n",
      "[I 2024-12-10 15:28:22,077] Trial 22 finished with value: 0.011899454519152641 and parameters: {'hidden_dim1': 896, 'hidden_dim2': 64, 'dropout_rate': 0.1, 'lr': 0.0006736387676978996}. Best is trial 10 with value: 0.009030180983245373.\n",
      "[I 2024-12-10 15:28:23,049] Trial 23 finished with value: 0.01452411338686943 and parameters: {'hidden_dim1': 512, 'hidden_dim2': 128, 'dropout_rate': 0.1, 'lr': 0.00024839733385792647}. Best is trial 10 with value: 0.009030180983245373.\n",
      "[I 2024-12-10 15:28:24,522] Trial 24 finished with value: 0.06522741168737411 and parameters: {'hidden_dim1': 768, 'hidden_dim2': 192, 'dropout_rate': 0.2, 'lr': 0.009991142082834619}. Best is trial 10 with value: 0.009030180983245373.\n",
      "[I 2024-12-10 15:28:25,629] Trial 25 finished with value: 0.016809001564979553 and parameters: {'hidden_dim1': 640, 'hidden_dim2': 64, 'dropout_rate': 0.1, 'lr': 0.00010217645044910227}. Best is trial 10 with value: 0.009030180983245373.\n",
      "[I 2024-12-10 15:28:27,015] Trial 26 finished with value: 0.013811206445097923 and parameters: {'hidden_dim1': 768, 'hidden_dim2': 128, 'dropout_rate': 0.2, 'lr': 0.00015852220793035118}. Best is trial 10 with value: 0.009030180983245373.\n",
      "[I 2024-12-10 15:28:28,137] Trial 27 finished with value: 0.012265944853425026 and parameters: {'hidden_dim1': 512, 'hidden_dim2': 256, 'dropout_rate': 0.1, 'lr': 0.0008104278913877259}. Best is trial 10 with value: 0.009030180983245373.\n",
      "[I 2024-12-10 15:28:30,435] Trial 28 finished with value: 0.014217184856534004 and parameters: {'hidden_dim1': 896, 'hidden_dim2': 384, 'dropout_rate': 0.2, 'lr': 0.0004162218149318194}. Best is trial 10 with value: 0.009030180983245373.\n",
      "[I 2024-12-10 15:28:31,076] Trial 29 finished with value: 0.012654503807425499 and parameters: {'hidden_dim1': 384, 'hidden_dim2': 64, 'dropout_rate': 0.1, 'lr': 0.0002364481437221315}. Best is trial 10 with value: 0.009030180983245373.\n",
      "[I 2024-12-10 15:28:32,326] Trial 30 finished with value: 0.012254505418241024 and parameters: {'hidden_dim1': 640, 'hidden_dim2': 192, 'dropout_rate': 0.30000000000000004, 'lr': 0.00031057614810776587}. Best is trial 10 with value: 0.009030180983245373.\n",
      "[I 2024-12-10 15:28:33,222] Trial 31 finished with value: 0.009117061272263527 and parameters: {'hidden_dim1': 512, 'hidden_dim2': 64, 'dropout_rate': 0.1, 'lr': 0.0004885401364412229}. Best is trial 10 with value: 0.009030180983245373.\n",
      "[I 2024-12-10 15:28:34,148] Trial 32 finished with value: 0.010320722125470638 and parameters: {'hidden_dim1': 512, 'hidden_dim2': 128, 'dropout_rate': 0.1, 'lr': 0.0006436884484311264}. Best is trial 10 with value: 0.009030180983245373.\n",
      "[I 2024-12-10 15:28:35,253] Trial 33 finished with value: 0.015236885286867619 and parameters: {'hidden_dim1': 640, 'hidden_dim2': 64, 'dropout_rate': 0.1, 'lr': 0.0001281614344184584}. Best is trial 10 with value: 0.009030180983245373.\n",
      "[I 2024-12-10 15:28:35,905] Trial 34 finished with value: 0.01242431066930294 and parameters: {'hidden_dim1': 384, 'hidden_dim2': 64, 'dropout_rate': 0.1, 'lr': 0.0009024561218699957}. Best is trial 10 with value: 0.009030180983245373.\n",
      "[I 2024-12-10 15:28:37,068] Trial 35 finished with value: 0.012436595745384693 and parameters: {'hidden_dim1': 640, 'hidden_dim2': 128, 'dropout_rate': 0.2, 'lr': 0.00027834062375165457}. Best is trial 10 with value: 0.009030180983245373.\n",
      "[I 2024-12-10 15:28:37,979] Trial 36 finished with value: 0.011111238971352577 and parameters: {'hidden_dim1': 512, 'hidden_dim2': 64, 'dropout_rate': 0.1, 'lr': 0.00016200992270525052}. Best is trial 10 with value: 0.009030180983245373.\n",
      "[I 2024-12-10 15:28:39,433] Trial 37 finished with value: 0.013725502416491508 and parameters: {'hidden_dim1': 768, 'hidden_dim2': 128, 'dropout_rate': 0.30000000000000004, 'lr': 0.0003974783137098688}. Best is trial 10 with value: 0.009030180983245373.\n",
      "[I 2024-12-10 15:28:40,232] Trial 38 finished with value: 0.017039474099874496 and parameters: {'hidden_dim1': 384, 'hidden_dim2': 192, 'dropout_rate': 0.5, 'lr': 0.0005105801140654237}. Best is trial 10 with value: 0.009030180983245373.\n",
      "[I 2024-12-10 15:28:41,798] Trial 39 finished with value: 0.0247483067214489 and parameters: {'hidden_dim1': 640, 'hidden_dim2': 384, 'dropout_rate': 0.1, 'lr': 0.0021315869864399514}. Best is trial 10 with value: 0.009030180983245373.\n",
      "[I 2024-12-10 15:28:43,191] Trial 40 finished with value: 0.013024536892771721 and parameters: {'hidden_dim1': 768, 'hidden_dim2': 64, 'dropout_rate': 0.2, 'lr': 0.0011459960080742293}. Best is trial 10 with value: 0.009030180983245373.\n",
      "[I 2024-12-10 15:28:44,152] Trial 41 finished with value: 0.010211830027401447 and parameters: {'hidden_dim1': 512, 'hidden_dim2': 128, 'dropout_rate': 0.1, 'lr': 0.0007817672068018188}. Best is trial 10 with value: 0.009030180983245373.\n",
      "[I 2024-12-10 15:28:45,192] Trial 42 finished with value: 0.012839019298553467 and parameters: {'hidden_dim1': 512, 'hidden_dim2': 128, 'dropout_rate': 0.1, 'lr': 0.0007717616326178994}. Best is trial 10 with value: 0.009030180983245373.\n",
      "[I 2024-12-10 15:28:46,503] Trial 43 finished with value: 0.009326929226517677 and parameters: {'hidden_dim1': 640, 'hidden_dim2': 64, 'dropout_rate': 0.1, 'lr': 0.00042679734405457045}. Best is trial 10 with value: 0.009030180983245373.\n",
      "[I 2024-12-10 15:28:46,855] Trial 44 finished with value: 0.011583326384425163 and parameters: {'hidden_dim1': 128, 'hidden_dim2': 192, 'dropout_rate': 0.1, 'lr': 0.00046155887991286624}. Best is trial 10 with value: 0.009030180983245373.\n",
      "[I 2024-12-10 15:28:47,721] Trial 45 finished with value: 0.010854831896722317 and parameters: {'hidden_dim1': 384, 'hidden_dim2': 256, 'dropout_rate': 0.1, 'lr': 0.0005677769884332128}. Best is trial 10 with value: 0.009030180983245373.\n",
      "[I 2024-12-10 15:28:48,887] Trial 46 finished with value: 0.018992314115166664 and parameters: {'hidden_dim1': 640, 'hidden_dim2': 64, 'dropout_rate': 0.4, 'lr': 0.001137574823090953}. Best is trial 10 with value: 0.009030180983245373.\n",
      "[I 2024-12-10 15:28:49,884] Trial 47 finished with value: 0.012768217362463474 and parameters: {'hidden_dim1': 512, 'hidden_dim2': 128, 'dropout_rate': 0.2, 'lr': 0.0007322185521852602}. Best is trial 10 with value: 0.009030180983245373.\n",
      "[I 2024-12-10 15:28:50,785] Trial 48 finished with value: 0.012193087488412857 and parameters: {'hidden_dim1': 256, 'hidden_dim2': 512, 'dropout_rate': 0.2, 'lr': 0.0003824389134392474}. Best is trial 10 with value: 0.009030180983245373.\n",
      "[I 2024-12-10 15:28:52,413] Trial 49 finished with value: 0.011373807676136494 and parameters: {'hidden_dim1': 896, 'hidden_dim2': 64, 'dropout_rate': 0.30000000000000004, 'lr': 0.00019193037489307499}. Best is trial 10 with value: 0.009030180983245373.\n"
     ]
    },
    {
     "name": "stdout",
     "output_type": "stream",
     "text": [
      "Best hyperparameters: {'hidden_dim1': 640, 'hidden_dim2': 64, 'dropout_rate': 0.1, 'lr': 0.0003760738656891948}\n",
      "Best test loss: 0.009030180983245373\n"
     ]
    }
   ],
   "source": [
    "import optuna\n",
    "\n",
    "# Функция для обучения модели с заданными гиперпараметрами\n",
    "def objective(trial):\n",
    "    # Гиперпараметры, которые будет подбирать Optuna\n",
    "    hidden_dim1 = trial.suggest_int(\"hidden_dim1\", 128, 1024, step=128)\n",
    "    hidden_dim2 = trial.suggest_int(\"hidden_dim2\", 64, 512, step=64)\n",
    "    dropout_rate = trial.suggest_float(\"dropout_rate\", 0.1, 0.5, step=0.1)\n",
    "    lr = trial.suggest_loguniform(\"lr\", 1e-4, 1e-2)\n",
    "\n",
    "    # Определяем модель с текущими гиперпараметрами\n",
    "    class MLPModel(nn.Module):\n",
    "        def __init__(self, input_dim, hidden_dim1, hidden_dim2, dropout_rate):\n",
    "            super(MLPModel, self).__init__()\n",
    "            self.network = nn.Sequential(\n",
    "                nn.Linear(input_dim, hidden_dim1),\n",
    "                nn.ReLU(),\n",
    "                nn.Dropout(dropout_rate),\n",
    "                nn.Linear(hidden_dim1, hidden_dim2),\n",
    "                nn.ReLU(),\n",
    "                nn.Dropout(dropout_rate),\n",
    "                nn.Linear(hidden_dim2, 1)\n",
    "            )\n",
    "        \n",
    "        def forward(self, x):\n",
    "            return self.network(x)\n",
    "\n",
    "    # Инициализация модели, функции потерь и оптимизатора\n",
    "    input_dim = X_train_scaled.shape[1]\n",
    "    model = MLPModel(input_dim, hidden_dim1, hidden_dim2, dropout_rate).to(device)\n",
    "    criterion = nn.MSELoss()\n",
    "    optimizer = optim.Adam(model.parameters(), lr=lr)\n",
    "\n",
    "    # Обучение модели\n",
    "    num_epochs = 20  # Можно увеличить для более точной оптимизации\n",
    "    for epoch in range(num_epochs):\n",
    "        model.train()\n",
    "        optimizer.zero_grad()\n",
    "        predictions = model(X_train_tensor)\n",
    "        loss = criterion(predictions, y_train_tensor)\n",
    "        loss.backward()\n",
    "        optimizer.step()\n",
    "\n",
    "    # Оценка модели на тестовой выборке\n",
    "    model.eval()\n",
    "    with torch.no_grad():\n",
    "        test_predictions = model(X_test_tensor)\n",
    "        test_loss = criterion(test_predictions, y_test_tensor).item()\n",
    "\n",
    "    return test_loss  # Возвращаем метрику для минимизации\n",
    "\n",
    "# Создаём объект для поиска\n",
    "study = optuna.create_study(direction=\"minimize\")\n",
    "study.optimize(objective, n_trials=50)  # Количество итераций\n",
    "\n",
    "# Лучшие гиперпараметры\n",
    "print(\"Best hyperparameters:\", study.best_params)\n",
    "print(\"Best test loss:\", study.best_value)\n"
   ]
  },
  {
   "cell_type": "code",
   "execution_count": 35,
   "id": "65b6127f-ff88-44bd-94fa-a88f47a80ad5",
   "metadata": {},
   "outputs": [
    {
     "ename": "TypeError",
     "evalue": "MLPModel.__init__() got an unexpected keyword argument 'hidden_dim1'",
     "output_type": "error",
     "traceback": [
      "\u001b[0;31m---------------------------------------------------------------------------\u001b[0m",
      "\u001b[0;31mTypeError\u001b[0m                                 Traceback (most recent call last)",
      "Cell \u001b[0;32mIn[35], line 2\u001b[0m\n\u001b[1;32m      1\u001b[0m \u001b[38;5;66;03m# Финальная модель с лучшими гиперпараметрами\u001b[39;00m\n\u001b[0;32m----> 2\u001b[0m final_model \u001b[38;5;241m=\u001b[39m MLPModel(\n\u001b[1;32m      3\u001b[0m     input_dim\u001b[38;5;241m=\u001b[39mX_train_scaled\u001b[38;5;241m.\u001b[39mshape[\u001b[38;5;241m1\u001b[39m],\n\u001b[1;32m      4\u001b[0m     hidden_dim1\u001b[38;5;241m=\u001b[39mstudy\u001b[38;5;241m.\u001b[39mbest_params[\u001b[38;5;124m\"\u001b[39m\u001b[38;5;124mhidden_dim1\u001b[39m\u001b[38;5;124m\"\u001b[39m],\n\u001b[1;32m      5\u001b[0m     hidden_dim2\u001b[38;5;241m=\u001b[39mstudy\u001b[38;5;241m.\u001b[39mbest_params[\u001b[38;5;124m\"\u001b[39m\u001b[38;5;124mhidden_dim2\u001b[39m\u001b[38;5;124m\"\u001b[39m],\n\u001b[1;32m      6\u001b[0m     dropout_rate\u001b[38;5;241m=\u001b[39mstudy\u001b[38;5;241m.\u001b[39mbest_params[\u001b[38;5;124m\"\u001b[39m\u001b[38;5;124mdropout_rate\u001b[39m\u001b[38;5;124m\"\u001b[39m]\n\u001b[1;32m      7\u001b[0m )\u001b[38;5;241m.\u001b[39mto(device)\n\u001b[1;32m      9\u001b[0m criterion \u001b[38;5;241m=\u001b[39m nn\u001b[38;5;241m.\u001b[39mMSELoss()\n\u001b[1;32m     10\u001b[0m optimizer \u001b[38;5;241m=\u001b[39m optim\u001b[38;5;241m.\u001b[39mAdam(final_model\u001b[38;5;241m.\u001b[39mparameters(), lr\u001b[38;5;241m=\u001b[39mstudy\u001b[38;5;241m.\u001b[39mbest_params[\u001b[38;5;124m\"\u001b[39m\u001b[38;5;124mlr\u001b[39m\u001b[38;5;124m\"\u001b[39m])\n",
      "\u001b[0;31mTypeError\u001b[0m: MLPModel.__init__() got an unexpected keyword argument 'hidden_dim1'"
     ]
    }
   ],
   "source": [
    "# Финальная модель с лучшими гиперпараметрами\n",
    "final_model = MLPModel(\n",
    "    input_dim=X_train_scaled.shape[1],\n",
    "    hidden_dim1=study.best_params[\"hidden_dim1\"],\n",
    "    hidden_dim2=study.best_params[\"hidden_dim2\"],\n",
    "    dropout_rate=study.best_params[\"dropout_rate\"]\n",
    ").to(device)\n",
    "\n",
    "criterion = nn.MSELoss()\n",
    "optimizer = optim.Adam(final_model.parameters(), lr=study.best_params[\"lr\"])\n",
    "\n",
    "# Обучение финальной модели\n",
    "final_model.train()\n",
    "for epoch in range(30):  # Увеличиваем число эпох для финальной модели\n",
    "    optimizer.zero_grad()\n",
    "    predictions = final_model(X_train_tensor)\n",
    "    loss = criterion(predictions, y_train_tensor)\n",
    "    loss.backward()\n",
    "    optimizer.step()\n",
    "    if (epoch + 1) % 5 == 0:\n",
    "        print(f\"Epoch {epoch+1}: Loss = {loss.item():.4f}\")\n",
    "\n",
    "# Переводим модель в режим оценки\n",
    "final_model.eval()"
   ]
  },
  {
   "cell_type": "code",
   "execution_count": null,
   "id": "9b99871c-7a8b-456f-9f3d-25826783944f",
   "metadata": {},
   "outputs": [],
   "source": [
    "# Тестовые запросы\n",
    "test_queries = [\n",
    "    \"A hiker poses in front of a mountain with clouds.\",\n",
    "    \"A dog running in a park.\",\n",
    "    \"A beautiful sunset over the ocean.\",\n",
    "    \"A child playing with a toy car.\",\n",
    "    \"A couple walking on a bridge.\"\n",
    "]\n",
    "\n",
    "# Вывод результатов\n",
    "for query in test_queries:\n",
    "    print(f\"Запрос: {query}\")\n",
    "    result = find_most_relevant_image(query, final_model, image_embeddings, child_related_keywords)\n",
    "    if isinstance(result, str):\n",
    "        print(result)  # Дисклеймер\n",
    "    else:\n",
    "        best_image, score = result\n",
    "        print(f\"Наиболее релевантное изображение: {best_image} (оценка: {score:.4f})\")\n",
    "        image_path = os.path.join(IMAGE_DIR, best_image)\n",
    "        img = Image.open(image_path)\n",
    "        plt.imshow(img)\n",
    "        plt.title(f\"Релевантное изображение (оценка: {score:.4f})\")\n",
    "        plt.axis('off')\n",
    "        plt.show()\n"
   ]
  },
  {
   "cell_type": "code",
   "execution_count": null,
   "id": "18af8372-c091-411e-83b6-b88a0814cb39",
   "metadata": {},
   "outputs": [],
   "source": []
  },
  {
   "cell_type": "code",
   "execution_count": null,
   "id": "91761267-ce64-4e81-a075-8bbfe2999279",
   "metadata": {},
   "outputs": [],
   "source": []
  },
  {
   "cell_type": "code",
   "execution_count": null,
   "id": "6228e02d-ef55-4f21-ad22-bb94fcbe28c7",
   "metadata": {},
   "outputs": [],
   "source": []
  },
  {
   "cell_type": "code",
   "execution_count": null,
   "id": "50ac7785-1d84-4b3a-a8b6-d0dd04adc5ed",
   "metadata": {},
   "outputs": [],
   "source": []
  },
  {
   "cell_type": "code",
   "execution_count": null,
   "id": "b1835cbb-180e-4ab2-9bbf-0cc8c848533a",
   "metadata": {},
   "outputs": [],
   "source": []
  },
  {
   "cell_type": "code",
   "execution_count": null,
   "id": "63316c39-51a5-478d-83cc-237d17354d23",
   "metadata": {},
   "outputs": [],
   "source": []
  },
  {
   "cell_type": "code",
   "execution_count": null,
   "id": "db31517a-0123-4b94-b72e-7d77ecedb182",
   "metadata": {},
   "outputs": [],
   "source": []
  },
  {
   "cell_type": "code",
   "execution_count": null,
   "id": "88356bc8-643b-4c66-861d-ffbb40485b34",
   "metadata": {},
   "outputs": [],
   "source": []
  },
  {
   "cell_type": "code",
   "execution_count": null,
   "id": "df2019aa-650d-4840-9408-6f181366c709",
   "metadata": {},
   "outputs": [],
   "source": []
  },
  {
   "cell_type": "code",
   "execution_count": null,
   "id": "a380685e-c783-4a48-807b-fde43dbe1c16",
   "metadata": {},
   "outputs": [],
   "source": []
  }
 ],
 "metadata": {
  "kernelspec": {
   "display_name": "Python 3 (ipykernel)",
   "language": "python",
   "name": "python3"
  },
  "language_info": {
   "codemirror_mode": {
    "name": "ipython",
    "version": 3
   },
   "file_extension": ".py",
   "mimetype": "text/x-python",
   "name": "python",
   "nbconvert_exporter": "python",
   "pygments_lexer": "ipython3",
   "version": "3.11.5"
  }
 },
 "nbformat": 4,
 "nbformat_minor": 5
}
