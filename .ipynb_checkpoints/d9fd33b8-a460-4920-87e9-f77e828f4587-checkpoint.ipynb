{
 "cells": [
  {
   "cell_type": "markdown",
   "id": "1c16f17f",
   "metadata": {},
   "source": [
    "<img src=\"http://s3.amazonaws.com/pix.iemoji.com/images/emoji/apple/ios-12/256/waving-hand.png\" align=left width=44, heigth=44>\n",
    "<div class=\"alert alert-info\">\n",
    "<b> Комментарий ревьюера</b>\n",
    "\n",
    "\n",
    "Привет, Артём! Давай знакомиться! Меня зовут Дмитрий Махортов, и я буду проверять твой проект. Сразу предлагаю общение на «ты» 🙂, но если тебе это не комфортно, то дай знать, и мы перейдем на «вы». \n",
    "\n",
    "Моя основная цель — не указать на совершенные тобою ошибки, а поделиться своим опытом и помочь тебе погрузиться в увлекательный мир работы с данными и вырасти в крепкого профи. Это отдаленная цель. А ближайшая - сделать твою работу еще лучше )).\n",
    "   \n",
    "    \n",
    "Все ключевые этапы в работе выполнены, и я вижу что с проектом ты справшяешься. Есть моменты, которые нужно доработать, но я уверен, у тебя все получится.\n",
    "        \n",
    "Расскажу как обычно проходит проверка:    \n",
    "Бывают моменты, которые требуют пристального внимания. Комментарии по ним выделены <span style='background-color:#F7B3A4'> красным цветом </span> и обозначены значком 🛑. После их доработки проект будет принят.  🙂\n",
    " \n",
    "<span style='background-color:#B7EBA7'> Зеленым цветом </span> и значком ✅ отмечены удачные и элегантные решения, на которые можно опираться в будущих проектах. Или советы «со звездочкой», которые помогут тебе в будущем.\n",
    "\n",
    "<span style='background-color:#F9EDA6'>Жёлтым цветом </span> и значком ⚠️ выделено то, что в следующий раз можно сделать по-другому. Ты можешь учесть эти комментарии при выполнении будущих заданий или доработать проект сейчас (однако это не обязательно).\n",
    "\n",
    "Давай работать над проектом в диалоге: **если ты что-то меняешь в проекте по моим рекомендациям — пиши об этом**. Выбери для своих комментариев какой-то заметный цвет, так мне будет легче отследить изменения. Пожалуйста, **не перемещай, не изменяй и не удаляй мои комментарии**. Всё это поможет выполнить повторную проверку твоего проекта оперативнее. \n",
    "</div>"
   ]
  },
  {
   "cell_type": "markdown",
   "id": "892a1eed",
   "metadata": {},
   "source": [
    "<div class=\"alert\" style=\"background-color:#ead7f7;color:#8737bf\">\n",
    "    <font size=\"3\"><b>образец комментария студента</b></font>\n",
    "   \n",
    "Можешь использовать этот комментарий. Просто удали этот текст и вместо него напиши свой 🙂\n",
    "\n",
    "</div>"
   ]
  },
  {
   "cell_type": "markdown",
   "id": "c855eede-80ee-4fb3-aece-7e6ec2a51bde",
   "metadata": {},
   "source": [
    "<div class=\"alert\" style=\"background-color:#ead7f7;color:#8737bf\">\n",
    "    <font size=\"3\"><b>Комментарий студента</b></font>\n",
    "   \n",
    "Привет! Спасибо за подробное ревью проекта, постарался учесть все замечания) \n",
    "\n",
    "</div>"
   ]
  },
  {
   "cell_type": "markdown",
   "id": "b6cadf9f-59d1-4360-89de-b349b53b2fb1",
   "metadata": {},
   "source": [
    "# Введение "
   ]
  },
  {
   "cell_type": "markdown",
   "id": "5754aae0-f093-4010-919f-b8933b631426",
   "metadata": {},
   "source": [
    "Интернет-магазин «Викишоп» запускает новый сервис. Теперь пользователи могут редактировать и дополнять описания товаров, как в вики-сообществах. То есть клиенты предлагают свои правки и комментируют изменения других. Магазину нужен инструмент, который будет искать токсичные комментарии и отправлять их на модерацию. \n",
    "\n",
    "Обучите модель классифицировать комментарии на позитивные и негативные. В вашем распоряжении набор данных с разметкой о токсичности правок.\n",
    "\n",
    "Постройте модель со значением метрики качества *F1* не меньше 0.75. \n",
    "\n",
    "**Инструкция по выполнению проекта**\n",
    "\n",
    "1. Загрузите и подготовьте данные.\n",
    "2. Обучите разные модели. \n",
    "3. Сделайте выводы.\n",
    "\n",
    "Для выполнения проекта применять *BERT* необязательно, но вы можете попробовать.\n",
    "\n",
    "**Описание данных**\n",
    "\n",
    "Данные находятся в файле `toxic_comments.csv`. Столбец *text* в нём содержит текст комментария, а *toxic* — целевой признак."
   ]
  },
  {
   "cell_type": "markdown",
   "id": "1b76fe57-851a-40c3-819b-4a010c3bb03a",
   "metadata": {},
   "source": [
    "# 1. Загрузка и подготовка данных"
   ]
  },
  {
   "cell_type": "markdown",
   "id": "bec7160b-dbb7-454c-b27b-63f54b51b042",
   "metadata": {},
   "source": [
    "## Импорты"
   ]
  },
  {
   "cell_type": "code",
   "execution_count": 1,
   "id": "27a33ab8-aef8-44f6-bfd4-b56e9659da65",
   "metadata": {},
   "outputs": [],
   "source": [
    "import numpy as np\n",
    "import pandas as pd\n",
    "import re\n",
    "import torch\n",
    "import nltk\n",
    "from nltk.corpus import stopwords\n",
    "from nltk.tokenize import word_tokenize\n",
    "from nltk.stem import WordNetLemmatizer\n",
    "from sklearn.model_selection import train_test_split, StratifiedKFold, cross_val_score\n",
    "from sklearn.feature_extraction.text import TfidfVectorizer\n",
    "from sklearn.linear_model import LogisticRegression\n",
    "from sklearn.ensemble import RandomForestClassifier\n",
    "from lightgbm import LGBMClassifier\n",
    "from sklearn.metrics import f1_score, classification_report\n",
    "import optuna\n",
    "from transformers import BertTokenizer, BertForSequenceClassification, BertConfig, BertModel\n",
    "from torch.utils.data import DataLoader, Dataset\n",
    "from torch.optim import Adam\n",
    "from tqdm import tqdm\n",
    "import warnings\n",
    "import os\n",
    "from tqdm.notebook import tqdm\n",
    "from nltk.corpus import wordnet\n",
    "from nltk import pos_tag, word_tokenize\n",
    "from sklearn.pipeline import Pipeline\n",
    "from sklearn.metrics import f1_score, classification_report"
   ]
  },
  {
   "cell_type": "markdown",
   "id": "181b36af",
   "metadata": {},
   "source": [
    "<img src=\"https://emojigraph.org/media/apple/check-mark-button_2705.png\" align=left width=33, heigth=33>\n",
    "<div class=\"alert alert-success\">\n",
    "Отлично, все нужные библиотеки импортированы в начале ноутбука.Это хорошая практика.</div>"
   ]
  },
  {
   "cell_type": "code",
   "execution_count": 2,
   "id": "dbbb5a02-7130-417f-9116-9db2d4615e7c",
   "metadata": {},
   "outputs": [
    {
     "name": "stderr",
     "output_type": "stream",
     "text": [
      "[nltk_data] Downloading package stopwords to\n",
      "[nltk_data]     C:\\Users\\Deвайс\\AppData\\Roaming\\nltk_data...\n",
      "[nltk_data]   Package stopwords is already up-to-date!\n",
      "[nltk_data] Downloading package wordnet to\n",
      "[nltk_data]     C:\\Users\\Deвайс\\AppData\\Roaming\\nltk_data...\n",
      "[nltk_data]   Package wordnet is already up-to-date!\n",
      "[nltk_data] Downloading package omw-1.4 to\n",
      "[nltk_data]     C:\\Users\\Deвайс\\AppData\\Roaming\\nltk_data...\n",
      "[nltk_data]   Package omw-1.4 is already up-to-date!\n",
      "[nltk_data] Downloading package punkt to\n",
      "[nltk_data]     C:\\Users\\Deвайс\\AppData\\Roaming\\nltk_data...\n",
      "[nltk_data]   Package punkt is already up-to-date!\n",
      "[nltk_data] Downloading package averaged_perceptron_tagger to\n",
      "[nltk_data]     C:\\Users\\Deвайс\\AppData\\Roaming\\nltk_data...\n",
      "[nltk_data]   Package averaged_perceptron_tagger is already up-to-\n",
      "[nltk_data]       date!\n"
     ]
    },
    {
     "data": {
      "text/plain": [
       "True"
      ]
     },
     "execution_count": 2,
     "metadata": {},
     "output_type": "execute_result"
    }
   ],
   "source": [
    "# Загрузка необходимых ресурсов NLTK\n",
    "nltk.download('stopwords')\n",
    "nltk.download('wordnet')\n",
    "nltk.download('omw-1.4')\n",
    "nltk.download('punkt')\n",
    "nltk.download('averaged_perceptron_tagger')"
   ]
  },
  {
   "cell_type": "code",
   "execution_count": 3,
   "id": "645d1618-e1c0-47cb-a5c7-8e7ecc454d8f",
   "metadata": {},
   "outputs": [
    {
     "name": "stdout",
     "output_type": "stream",
     "text": [
      "Используем устройство: cuda\n"
     ]
    }
   ],
   "source": [
    "# Проверка доступности GPU\n",
    "device = torch.device(\"cuda\" if torch.cuda.is_available() else \"cpu\")\n",
    "print(f\"Используем устройство: {device}\")"
   ]
  },
  {
   "cell_type": "markdown",
   "id": "76b9e9b5",
   "metadata": {},
   "source": [
    "<img src=\"https://emojigraph.org/media/apple/check-mark-button_2705.png\" align=left width=33, heigth=33>\n",
    "<div class=\"alert alert-success\">\n",
    " 👍 </div>"
   ]
  },
  {
   "cell_type": "markdown",
   "id": "c9ad4fe0-53e9-4329-b30c-01b94ad520fe",
   "metadata": {},
   "source": [
    "## 2. Подготовка"
   ]
  },
  {
   "cell_type": "markdown",
   "id": "9e8ee71c-e5fb-4ce1-b770-5473f3980ac2",
   "metadata": {},
   "source": [
    "Загрузим данные и ознакомимся с их структурой. В датасете есть два столбца: text (текст комментария) и toxic (целевой признак, где 1 — токсичный комментарий, 0 — нет)."
   ]
  },
  {
   "cell_type": "code",
   "execution_count": 4,
   "id": "cd1775c3-3588-4eba-9da7-96fbfd0f02e6",
   "metadata": {},
   "outputs": [],
   "source": [
    "# Возможные пути к файлу\n",
    "local_path = r'C:\\Users\\Deвайс\\ML\\toxic_comments.csv'  # Локальный путь\n",
    "server_path = '/data/toxic_comments.csv'  # Например, путь на сервере\n",
    "\n",
    "# Проверяем, какой из путей доступен\n",
    "if os.path.exists(local_path):\n",
    "    file_path = local_path\n",
    "elif os.path.exists(colab_path):\n",
    "    file_path = colab_path\n",
    "elif os.path.exists(server_path):\n",
    "    file_path = server_path\n",
    "else:\n",
    "    raise FileNotFoundError(\"Файл не найден!\")\n",
    "\n",
    "# Загружаем данные\n",
    "df = pd.read_csv(file_path)\n"
   ]
  },
  {
   "cell_type": "markdown",
   "id": "138f6faf",
   "metadata": {},
   "source": [
    "<img src=\"https://upload.wikimedia.org/wikipedia/commons/thumb/8/81/Stop_sign.png/240px-Stop_sign.png\" align=left width=35, heigth=35>\n",
    "<div class=\"alert alert-danger\">\n",
    "    \n",
    "Кажется, работа над проектов велась локально и пути к файлам не были изменены на общедоступные. Стоит переписать код таким образом, что бы он запускался и в jupiter hub, и локально без внесения дополнительных правок. Этого можно добиться многими способами. Например, использовать конструкцию ``try-except`` для путей файлов: ``try`` — пути на локальном компьютере, ``except`` — пути на сервере. Или применить библиотеку ``os``:\n",
    "\n",
    "    import os\n",
    "\n",
    "    pth1 = '/folder_1/data.csv'\n",
    "    pth2 = '/folder_2/data.csv'\n",
    "    \n",
    "    if os.path.exists(pth1):\n",
    "        query_1 = pd.read_csv(pth1)\n",
    "    elif os.path.exists(pth2):\n",
    "        query_1 = pd.read_csv(pth2)\n",
    "    else:\n",
    "        print('Something is wrong)  \n",
    "</div>"
   ]
  },
  {
   "cell_type": "markdown",
   "id": "535a4669-e4e1-40ff-bd26-16906597d7b0",
   "metadata": {},
   "source": [
    "<div class=\"alert\" style=\"background-color:#ead7f7;color:#8737bf\">\n",
    "    <font size=\"3\"><b>Комментарий студента</b></font>\n",
    "   \n",
    "Исправлено\n",
    "\n",
    "</div>"
   ]
  },
  {
   "cell_type": "code",
   "execution_count": 5,
   "id": "f1198667-31ed-40eb-9ab7-8da9e3fc55b2",
   "metadata": {},
   "outputs": [
    {
     "name": "stdout",
     "output_type": "stream",
     "text": [
      "<class 'pandas.core.frame.DataFrame'>\n",
      "RangeIndex: 159292 entries, 0 to 159291\n",
      "Data columns (total 3 columns):\n",
      " #   Column      Non-Null Count   Dtype \n",
      "---  ------      --------------   ----- \n",
      " 0   Unnamed: 0  159292 non-null  int64 \n",
      " 1   text        159292 non-null  object\n",
      " 2   toxic       159292 non-null  int64 \n",
      "dtypes: int64(2), object(1)\n",
      "memory usage: 3.6+ MB\n",
      "None\n",
      "-------------------------------------------------------------------\n",
      "toxic\n",
      "0    0.898388\n",
      "1    0.101612\n",
      "Name: proportion, dtype: float64\n"
     ]
    }
   ],
   "source": [
    "# Проверка данных\n",
    "print(df.info())\n",
    "print('-------------------------------------------------------------------')\n",
    "print(df['toxic'].value_counts(normalize=True))  # Проверяем баланс классов"
   ]
  },
  {
   "cell_type": "markdown",
   "id": "77afe160",
   "metadata": {},
   "source": [
    "<img src=\"https://emojigraph.org/media/apple/check-mark-button_2705.png\" align=left width=33, heigth=33>\n",
    "<div class=\"alert alert-success\">\n",
    "Данные загружены и исследованы.</div>"
   ]
  },
  {
   "cell_type": "markdown",
   "id": "d59f234a",
   "metadata": {},
   "source": [
    "<img src=\"https://upload.wikimedia.org/wikipedia/commons/b/ba/Warning_sign_4.0.png\" align=left width=44, heigth=33>\n",
    "<div class=\"alert alert-warning\">\n",
    "А вот оборачивать результат работы метода  .info() в функцию print() или display() это лишнее. Метод  info() и сам напечатает тебе нужную информацию. А вот через print()/display() ты выводишь только то,что данный метод возвращает - т.е. None\n",
    "</div>"
   ]
  },
  {
   "cell_type": "markdown",
   "id": "c96d4098-d09f-4115-80b2-091174ee28d8",
   "metadata": {},
   "source": [
    "<div class=\"alert\" style=\"background-color:#ead7f7;color:#8737bf\">\n",
    "    <font size=\"3\"><b>Комментарий студента</b></font>\n",
    "   \n",
    "Исправлено\n",
    "\n",
    "</div>"
   ]
  },
  {
   "cell_type": "markdown",
   "id": "f9eb903b",
   "metadata": {},
   "source": [
    "<img src=\"https://emojigraph.org/media/apple/check-mark-button_2705.png\" align=left width=33, heigth=33>\n",
    "<div class=\"alert alert-success\">\n",
    "Молодец, исследован баланс классов. Это важная информация для задачи классификации.</div>"
   ]
  },
  {
   "cell_type": "markdown",
   "id": "9efa5820-926f-4e64-bce7-07fd28c1c74c",
   "metadata": {},
   "source": [
    "**Примечания:**\n",
    "- **Количество строк в датасете**: 159,292.\n",
    "- **Типы данных**:\n",
    "    - `Unnamed: 0`: целочисленный тип (идентификатор).\n",
    "    - `text`: строковый тип (текст комментария).\n",
    "    - `toxic`: целочисленный тип (метка токсичности).\n",
    "\n",
    "**Статистика по целевому признаку `toxic`:**\n",
    "- 89.8% комментариев не токсичные (0).\n",
    "- 10.2% комментариев токсичные (1).\n"
   ]
  },
  {
   "cell_type": "markdown",
   "id": "cdce4dd7",
   "metadata": {},
   "source": [
    "<img src=\"https://emojigraph.org/media/apple/check-mark-button_2705.png\" align=left width=33, heigth=33>\n",
    "<div class=\"alert alert-success\">\n",
    " 👍 </div>"
   ]
  },
  {
   "cell_type": "code",
   "execution_count": 6,
   "id": "c7b5456f-f63e-45ad-aea2-9506dab1ad76",
   "metadata": {},
   "outputs": [
    {
     "name": "stdout",
     "output_type": "stream",
     "text": [
      "Количество пропущенных значений:\n",
      " Unnamed: 0    0\n",
      "text          0\n",
      "toxic         0\n",
      "dtype: int64\n"
     ]
    }
   ],
   "source": [
    "# Проверим на наличие пропущенных значений\n",
    "print(\"Количество пропущенных значений:\\n\", df.isna().sum())"
   ]
  },
  {
   "cell_type": "code",
   "execution_count": 7,
   "id": "5a039d9a-c33b-44c0-b8b3-61d65b109c82",
   "metadata": {},
   "outputs": [],
   "source": [
    "# Удалим дубликаты, если они есть\n",
    "df = df.drop_duplicates().reset_index(drop=True)"
   ]
  },
  {
   "cell_type": "markdown",
   "id": "aa00b4e6-8ba8-4d7f-b11d-49a0b8e19423",
   "metadata": {},
   "source": [
    "## 3. Предобработка текста\n",
    "\n",
    "На этом этапе мы выполняем предобработку текстовых данных, чтобы привести их в форму, пригодную для обучения модели."
   ]
  },
  {
   "cell_type": "code",
   "execution_count": 8,
   "id": "c83c1440-f25a-486c-8cab-1e22b8271c13",
   "metadata": {},
   "outputs": [],
   "source": [
    "# Модули для предобработки текста\n",
    "lemmatizer = WordNetLemmatizer()\n",
    "stop_words = set(stopwords.words('english'))"
   ]
  },
  {
   "cell_type": "code",
   "execution_count": 9,
   "id": "80c8bd94-e589-4f6a-bb42-a62bd6e3402b",
   "metadata": {},
   "outputs": [],
   "source": [
    "# Функция для преобразования POS-тегов\n",
    "def get_wordnet_pos(word):\n",
    "    tag = pos_tag([word])[0][1][0].upper()\n",
    "    tag_dict = {\"J\": wordnet.ADJ, \"N\": wordnet.NOUN, \"V\": wordnet.VERB, \"R\": wordnet.ADV}\n",
    "    return tag_dict.get(tag, wordnet.NOUN)\n",
    "\n",
    "# Основная функция предобработки\n",
    "def preprocess_text(text):\n",
    "    text = text.lower()  # Приведение к нижнему регистру\n",
    "    text = re.sub(r'<[^>]+>', '', text)  # Удаление HTML-тегов\n",
    "    text = re.sub(r\"http\\S+|www\\S+|https\\S+\", \"\", text, flags=re.MULTILINE)  # Удаление ссылок\n",
    "    text = re.sub(r\"[^a-zA-Z\\s]\", \"\", text)  # Удаление лишних символов (оставляем только буквы и пробелы)\n",
    "\n",
    "    words = word_tokenize(text)  # Токенизация\n",
    "    lemmatized_words = [lemmatizer.lemmatize(word, get_wordnet_pos(word)) for word in words if word not in stop_words]  \n",
    "    return \" \".join(lemmatized_words)"
   ]
  },
  {
   "cell_type": "code",
   "execution_count": 10,
   "id": "22c5e9b6-9767-41eb-a56d-a0999f5856ff",
   "metadata": {},
   "outputs": [
    {
     "data": {
      "application/vnd.jupyter.widget-view+json": {
       "model_id": "97d745c8bfc44f7cbff8a6bd77f1c07a",
       "version_major": 2,
       "version_minor": 0
      },
      "text/plain": [
       "  0%|          | 0/159292 [00:00<?, ?it/s]"
      ]
     },
     "metadata": {},
     "output_type": "display_data"
    }
   ],
   "source": [
    "# Инициализируем tqdm\n",
    "tqdm.pandas()\n",
    "# Применяем предобработку\n",
    "df['clean_text'] = df['text'].progress_apply(preprocess_text)"
   ]
  },
  {
   "cell_type": "markdown",
   "id": "c9a01ed5",
   "metadata": {},
   "source": [
    "<img src=\"https://upload.wikimedia.org/wikipedia/commons/b/ba/Warning_sign_4.0.png\" align=left width=44, heigth=33>\n",
    "<div class=\"alert alert-warning\">\n",
    "Мне кажется нужно вначале удалить HTML теги и ссылки, а уже потом делать полную чистку текста. Иначе после выполнения первой регулярки у тебя просто не останется спецсимволов для выполнения последующих регулярок.\n",
    "</div>"
   ]
  },
  {
   "cell_type": "markdown",
   "id": "845f035d",
   "metadata": {},
   "source": [
    "<img src=\"https://upload.wikimedia.org/wikipedia/commons/b/ba/Warning_sign_4.0.png\" align=left width=44, heigth=33>\n",
    "<div class=\"alert alert-warning\">\n",
    "\n",
    "Правильная лемматизация длится долго... Минут 20-30, в зависимости от мощности компьютера. Гораздо комфортнее видеть прогресс выполнения этой длительной операции, чем сидеть и гадать \"а не зависла ли она\", \"закончит только к утру или через 30 секунд\"? Можно воспользоваться прогресс -баром от tqdm.\n",
    "    \n",
    "     \n",
    "    from tqdm.notebook import tqdm\n",
    "    tqdm.pandas()\n",
    "\n",
    "    data['lemm_text'] = data['text'].progress_apply(lemmafunction)\n",
    "    \n",
    "    \n",
    "    \n",
    "    \n",
    "</div>\n",
    "\n"
   ]
  },
  {
   "cell_type": "markdown",
   "id": "63f52610",
   "metadata": {},
   "source": [
    "<img src=\"https://upload.wikimedia.org/wikipedia/commons/thumb/8/81/Stop_sign.png/240px-Stop_sign.png\" align=left width=35, heigth=35>\n",
    "<div class=\"alert alert-danger\">\n",
    "Молодец, что используешь лемматизатор WordNetLemmatizer. Но в данном случае он отработал не очень хорошо, и если присмотреться к тексту это хорошо видно. Например, в  нулевой строке есть глагол made, а его начальная форма make. \n",
    "    \n",
    "Как правило, совершаются следующие ошибки:\n",
    "    \n",
    " - Лемматизация должна производиться по одному слову, а не весь комментарий целиком\n",
    " - Слова должны быть приведены к нижнему регистру\n",
    " - Кроме самого слова в лемматизатор нужно передать дополнительную информацию о части речи слова (POS тег). \n",
    "    \n",
    "    \n",
    "    \n",
    "Ты можешь доработать подход с WordNetLemmatizer или использовать spaCy, там все отрабатывает \"из коробки\". Можешь посмотреть вот эту статью.  \n",
    "\n",
    "\n",
    "https://webdevblog.ru/podhody-lemmatizacii-s-primerami-v-python/\n",
    "    \n",
    "Хочу обратить твое внимание, что код из вышеуказанной статьи выполняется несколько дольше, чем оптимизированный, вот из этого топика\n",
    "    \n",
    "https://stackoverflow.com/questions/50992974/nltk-wordnetlemmatizer-not-lemmatizing-as-expected    \n",
    "    \n",
    "    \n",
    "    \n",
    "Совет - старайся сразу проверять  результаты лемматизации. Например, для предложения\n",
    "    \n",
    "    sentence = \"The striped bats are hanging on their feet for best\"\n",
    "    \n",
    "После лемматизации должен получиться вот такой результат\n",
    "    \n",
    "    \"the strip bat be hang on their foot for best\"    \n",
    "    \n",
    "Если будешь лемматизировать по второму способу, то слово  striped может остаться без изменений, это тоже  нормально (особенность алгоритма).       \n",
    "</div>"
   ]
  },
  {
   "cell_type": "markdown",
   "id": "df501530-2396-48f9-bc70-b7d861835bbf",
   "metadata": {},
   "source": [
    "<div class=\"alert\" style=\"background-color:#ead7f7;color:#8737bf\">\n",
    "    <font size=\"3\"><b>Комментарий студента</b></font>\n",
    "   \n",
    "- Добавлен tqdm, теперь видно прогресс обработки\n",
    "- Удалены HTML-теги и ссылки с помощью re.sub() в начале обработки\n",
    "- Убраны стоп-слова \n",
    "- POS-теггинг (pos_tag()) теперь улучшает лемматизацию\n",
    "- Оптимизирована очистка текста\n",
    "\n",
    "</div>"
   ]
  },
  {
   "cell_type": "markdown",
   "id": "ca78480e-92fb-4b05-9888-9a29488376d9",
   "metadata": {},
   "source": [
    "**Шаги предобработки:**\n",
    "1. **Приведение текста к нижнему регистру** — для унификации.\n",
    "2. **Удаление всех символов, не являющихся буквами и цифрами** — с помощью регулярных выражений.\n",
    "3. **Удаление HTML-тегов** — чтобы избавиться от ненужной разметки.\n",
    "4. **Удаление ссылок** — с помощью регулярных выражений.\n",
    "5. **Удаление лишних пробелов** — для очистки текста.\n",
    "6. **Токенизация** — разбиение текста на отдельные слова.\n",
    "7. **Лемматизация** — приведение слов к их базовой форме.\n",
    "8. **Удаление стоп-слов** — таких как \"the\", \"and\", которые не несут значимой информации для классификации.\n",
    "\n",
    "**Применение предобработки:**\n",
    "Мы применяем эту функцию ко всем строкам в столбце `text` с помощью метода `apply()`.\n",
    "\n",
    "```python\n",
    "# Пример применения предобработки\n",
    "df['text'] = df['text'].apply(preprocess_text)\n"
   ]
  },
  {
   "cell_type": "code",
   "execution_count": 11,
   "id": "420d61c8-80be-41ba-a501-ac9f4d5b61d9",
   "metadata": {},
   "outputs": [
    {
     "data": {
      "text/html": [
       "<div>\n",
       "<style scoped>\n",
       "    .dataframe tbody tr th:only-of-type {\n",
       "        vertical-align: middle;\n",
       "    }\n",
       "\n",
       "    .dataframe tbody tr th {\n",
       "        vertical-align: top;\n",
       "    }\n",
       "\n",
       "    .dataframe thead th {\n",
       "        text-align: right;\n",
       "    }\n",
       "</style>\n",
       "<table border=\"1\" class=\"dataframe\">\n",
       "  <thead>\n",
       "    <tr style=\"text-align: right;\">\n",
       "      <th></th>\n",
       "      <th>Unnamed: 0</th>\n",
       "      <th>text</th>\n",
       "      <th>toxic</th>\n",
       "      <th>clean_text</th>\n",
       "    </tr>\n",
       "  </thead>\n",
       "  <tbody>\n",
       "    <tr>\n",
       "      <th>0</th>\n",
       "      <td>0</td>\n",
       "      <td>Explanation\\nWhy the edits made under my usern...</td>\n",
       "      <td>0</td>\n",
       "      <td>explanation edits make username hardcore metal...</td>\n",
       "    </tr>\n",
       "    <tr>\n",
       "      <th>1</th>\n",
       "      <td>1</td>\n",
       "      <td>D'aww! He matches this background colour I'm s...</td>\n",
       "      <td>0</td>\n",
       "      <td>daww match background colour im seemingly stuc...</td>\n",
       "    </tr>\n",
       "    <tr>\n",
       "      <th>2</th>\n",
       "      <td>2</td>\n",
       "      <td>Hey man, I'm really not trying to edit war. It...</td>\n",
       "      <td>0</td>\n",
       "      <td>hey man im really try edit war guy constantly ...</td>\n",
       "    </tr>\n",
       "    <tr>\n",
       "      <th>3</th>\n",
       "      <td>3</td>\n",
       "      <td>\"\\nMore\\nI can't make any real suggestions on ...</td>\n",
       "      <td>0</td>\n",
       "      <td>cant make real suggestion improvement wonder s...</td>\n",
       "    </tr>\n",
       "    <tr>\n",
       "      <th>4</th>\n",
       "      <td>4</td>\n",
       "      <td>You, sir, are my hero. Any chance you remember...</td>\n",
       "      <td>0</td>\n",
       "      <td>sir hero chance remember page thats</td>\n",
       "    </tr>\n",
       "    <tr>\n",
       "      <th>5</th>\n",
       "      <td>5</td>\n",
       "      <td>\"\\n\\nCongratulations from me as well, use the ...</td>\n",
       "      <td>0</td>\n",
       "      <td>congratulation well use tool well talk</td>\n",
       "    </tr>\n",
       "    <tr>\n",
       "      <th>6</th>\n",
       "      <td>6</td>\n",
       "      <td>COCKSUCKER BEFORE YOU PISS AROUND ON MY WORK</td>\n",
       "      <td>1</td>\n",
       "      <td>cocksucker piss around work</td>\n",
       "    </tr>\n",
       "    <tr>\n",
       "      <th>7</th>\n",
       "      <td>7</td>\n",
       "      <td>Your vandalism to the Matt Shirvington article...</td>\n",
       "      <td>0</td>\n",
       "      <td>vandalism matt shirvington article revert plea...</td>\n",
       "    </tr>\n",
       "    <tr>\n",
       "      <th>8</th>\n",
       "      <td>8</td>\n",
       "      <td>Sorry if the word 'nonsense' was offensive to ...</td>\n",
       "      <td>0</td>\n",
       "      <td>sorry word nonsense offensive anyway im intend...</td>\n",
       "    </tr>\n",
       "    <tr>\n",
       "      <th>9</th>\n",
       "      <td>9</td>\n",
       "      <td>alignment on this subject and which are contra...</td>\n",
       "      <td>0</td>\n",
       "      <td>alignment subject contrary dulithgow</td>\n",
       "    </tr>\n",
       "  </tbody>\n",
       "</table>\n",
       "</div>"
      ],
      "text/plain": [
       "   Unnamed: 0                                               text  toxic  \\\n",
       "0           0  Explanation\\nWhy the edits made under my usern...      0   \n",
       "1           1  D'aww! He matches this background colour I'm s...      0   \n",
       "2           2  Hey man, I'm really not trying to edit war. It...      0   \n",
       "3           3  \"\\nMore\\nI can't make any real suggestions on ...      0   \n",
       "4           4  You, sir, are my hero. Any chance you remember...      0   \n",
       "5           5  \"\\n\\nCongratulations from me as well, use the ...      0   \n",
       "6           6       COCKSUCKER BEFORE YOU PISS AROUND ON MY WORK      1   \n",
       "7           7  Your vandalism to the Matt Shirvington article...      0   \n",
       "8           8  Sorry if the word 'nonsense' was offensive to ...      0   \n",
       "9           9  alignment on this subject and which are contra...      0   \n",
       "\n",
       "                                          clean_text  \n",
       "0  explanation edits make username hardcore metal...  \n",
       "1  daww match background colour im seemingly stuc...  \n",
       "2  hey man im really try edit war guy constantly ...  \n",
       "3  cant make real suggestion improvement wonder s...  \n",
       "4                sir hero chance remember page thats  \n",
       "5             congratulation well use tool well talk  \n",
       "6                        cocksucker piss around work  \n",
       "7  vandalism matt shirvington article revert plea...  \n",
       "8  sorry word nonsense offensive anyway im intend...  \n",
       "9               alignment subject contrary dulithgow  "
      ]
     },
     "execution_count": 11,
     "metadata": {},
     "output_type": "execute_result"
    }
   ],
   "source": [
    "#check\n",
    "df.head(10)"
   ]
  },
  {
   "cell_type": "markdown",
   "id": "ac9eaf93",
   "metadata": {},
   "source": [
    "<img src=\"https://upload.wikimedia.org/wikipedia/commons/b/ba/Warning_sign_4.0.png\" align=left width=44, heigth=33>\n",
    "<div class=\"alert alert-warning\">\n",
    "Не стоит выводить весь датафрейм. Да, внешне ты видишь первые и последние пять строк. Но под капотом интерпретатор python работает со всем датафреймом, занимается оперативная память, пишутся служебные файлы... По итогу это может привести к замедлению работы и проблемам с работоспособностью тетрадки.\n",
    "    \n",
    "Лучше всегда явно ограничивать количество обрабатываемых значений.\n",
    "</div>"
   ]
  },
  {
   "cell_type": "markdown",
   "id": "f25422dc-50bc-4444-b60c-8f0f00221362",
   "metadata": {},
   "source": [
    "<div class=\"alert\" style=\"background-color:#ead7f7;color:#8737bf\">\n",
    "    <font size=\"3\"><b>Комментарий студента</b></font>\n",
    "   \n",
    "Учтено\n",
    "\n",
    "</div>"
   ]
  },
  {
   "cell_type": "markdown",
   "id": "23ab6ee5-3a25-4a85-9b5d-0ec9052fba01",
   "metadata": {},
   "source": [
    "Текст предобработан перейдем к вычислениям. "
   ]
  },
  {
   "cell_type": "markdown",
   "id": "1ac62900-053f-4535-a102-a99138ffd653",
   "metadata": {},
   "source": [
    "## 4. Разделение данных и векторизация\n",
    "\n",
    "### 4.1 Разделение данных\n",
    "\n",
    "Мы разделяем данные на обучающую и тестовую выборки с помощью функции `train_test_split()` из библиотеки `sklearn`. Размер тестовой выборки составляет 20% от всех данных. Мы также используем параметр `stratify`, чтобы гарантировать, что распределение классов в обучающей и тестовой выборках будет одинаковым."
   ]
  },
  {
   "cell_type": "code",
   "execution_count": 12,
   "id": "a7a362d2-b0d6-4201-a989-1902d76a1e06",
   "metadata": {},
   "outputs": [],
   "source": [
    "# Разделение данных\n",
    "X_train, X_test, y_train, y_test = train_test_split(df['text'], df['toxic'], test_size=0.2, random_state=42, stratify=df['toxic'])"
   ]
  },
  {
   "cell_type": "markdown",
   "id": "16223a58",
   "metadata": {},
   "source": [
    "<img src=\"https://emojigraph.org/media/apple/check-mark-button_2705.png\" align=left width=33, heigth=33>\n",
    "<div class=\"alert alert-success\">\n",
    "    \n",
    "Данные разделены на выборки. Но я бы посоветовал тебе изменить пропорции и выделить на тест 10%. Причина простая - модели, которые мы обучаем чувствительны к объему обучающих данных. Чем больше слов они увидят в процессе обучения, и оценят их вклад в \"токсичность\", тем лучше будут модели. А для корректного тестирования и 10% данных вполне достаточно, учитывая немаленький размер датасета.\n",
    "\n",
    "</div>"
   ]
  },
  {
   "cell_type": "markdown",
   "id": "e525312b-f685-4b9c-8887-98989436d5b7",
   "metadata": {},
   "source": [
    "### 4.2 TF-IDF векторизация + Optuna\n",
    "Для представления текста в числовой форме мы используем метод TF-IDF векторизации (Term Frequency - Inverse Document Frequency). Это помогает учесть важность каждого слова в контексте всего корпуса данных.\n",
    "\n",
    "Мы ограничиваем количество признаков до 20,000 и используем диграммы (пары слов), чтобы лучше захватывать контекст."
   ]
  },
  {
   "cell_type": "code",
   "execution_count": 13,
   "id": "57d958d3-a28f-4dfd-9abd-2e1f5ef29a8e",
   "metadata": {},
   "outputs": [],
   "source": [
    "# TF-IDF векторизация\n",
    "vectorizer = TfidfVectorizer(max_features=20000, ngram_range=(1,2))\n",
    "X_train_tfidf = vectorizer.fit_transform(X_train)\n",
    "X_test_tfidf = vectorizer.transform(X_test)"
   ]
  },
  {
   "cell_type": "markdown",
   "id": "21ff7ab9",
   "metadata": {},
   "source": [
    "<img src=\"https://emojigraph.org/media/apple/check-mark-button_2705.png\" align=left width=33, heigth=33>\n",
    "<div class=\"alert alert-success\">\n",
    " 👍 </div>"
   ]
  },
  {
   "cell_type": "code",
   "execution_count": 14,
   "id": "f4ef373d-a37e-4bc6-99c1-b27f4b030bd6",
   "metadata": {},
   "outputs": [],
   "source": [
    "# Отключаем FutureWarnings\n",
    "warnings.simplefilter(action='ignore', category=FutureWarning)\n",
    "\n",
    "# Устанавливаем стандартный уровень логирования Optuna\n",
    "optuna.logging.set_verbosity(optuna.logging.INFO)"
   ]
  },
  {
   "cell_type": "markdown",
   "id": "7484a909-4c12-4da2-a975-e1fad3af7047",
   "metadata": {},
   "source": [
    "### 4.3 Оптимизация моделей с Optuna\n",
    "\n",
    "Для выбора наилучшей модели и ее гиперпараметров мы используем библиотеку **Optuna**, которая позволяет автоматически искать оптимальные параметры для машинного обучения.\n",
    "\n",
    "**Поиск наилучшей модели**\n",
    "Мы рассматриваем три различных модели классификации:\n",
    "- **Логистическая регрессия (`logreg`)**\n",
    "- **Случайный лес (`random_forest`)**\n",
    "- **Градиентный бустинг LightGBM (`lightgbm`)**\n",
    "\n",
    "Optuna будет **перебирать** параметры для каждой модели, чтобы найти наилучшие."
   ]
  },
  {
   "cell_type": "code",
   "execution_count": 15,
   "id": "55fd861c-ce66-4a8a-8c35-996341142178",
   "metadata": {},
   "outputs": [],
   "source": [
    "# Функция для оптимизации моделей с Optuna\n",
    "def objective(trial):\n",
    "    model_type = trial.suggest_categorical('model_type', ['logreg', 'random_forest', 'lightgbm'])\n",
    "\n",
    "    # Создаем Pipeline: векторизатор + модель\n",
    "    tfidf = TfidfVectorizer()\n",
    "\n",
    "    if model_type == 'logreg':\n",
    "        C = trial.suggest_float('C', 1e-3, 10, log=True)\n",
    "        model = LogisticRegression(class_weight='balanced', max_iter=1000, C=C)\n",
    "    elif model_type == 'random_forest':\n",
    "        n_estimators = trial.suggest_int('n_estimators', 50, 300)\n",
    "        max_depth = trial.suggest_int('max_depth', 3, 15)\n",
    "        model = RandomForestClassifier(n_estimators=n_estimators, max_depth=max_depth, class_weight='balanced', random_state=42)\n",
    "    else:\n",
    "        n_estimators = trial.suggest_int('n_estimators', 50, 300)\n",
    "        max_depth = trial.suggest_int('max_depth', 3, 15)\n",
    "        model = LGBMClassifier(n_estimators=n_estimators, max_depth=max_depth, class_weight='balanced', random_state=42, device='gpu', verbose=-1)\n",
    "\n",
    "    # Pipeline объединяет TF-IDF и модель\n",
    "    pipeline = Pipeline([\n",
    "        ('tfidf', tfidf),\n",
    "        ('model', model)\n",
    "    ])\n",
    "    \n",
    "    # Кросс-валидация без утечки данных\n",
    "    cv = StratifiedKFold(n_splits=4, shuffle=True, random_state=42)\n",
    "    scores = cross_val_score(pipeline, X_train, y_train, cv=cv, scoring='f1')\n",
    "\n",
    "    return scores.mean()\n"
   ]
  },
  {
   "cell_type": "markdown",
   "id": "861fc610",
   "metadata": {},
   "source": [
    "<img src=\"https://emojigraph.org/media/apple/check-mark-button_2705.png\" align=left width=33, heigth=33>\n",
    "<div class=\"alert alert-success\">\n",
    " 👍 </div>"
   ]
  },
  {
   "cell_type": "markdown",
   "id": "e4b0568e",
   "metadata": {},
   "source": [
    "<img src=\"https://upload.wikimedia.org/wikipedia/commons/b/ba/Warning_sign_4.0.png\" align=left width=44, heigth=33>\n",
    "<div class=\"alert alert-warning\">\n",
    "Для оценки моделей ты используешь кросс-валидацию.  А кросс-валидация одновремено с извлечением признаков из текстов требует особого подхода. Ты помнишь, что векторайзер мы обучали на обучающей выборке а применяли к тестовой. Что происходит при кросс-валидации? Ты разбиваешь большую обучающую выборку на несколько фолдов, из них выделяешь часть на обучение, часть на валидацию.  Но признаки (TF-IDF) уже обучены на всем наборе (обучающий + валидационный). Получается утечка данных. Чтобы избежать её нужно использовать pipeline из векторайзера и модели.\n",
    "    \n",
    "Пример такого пайплайна можно посмотреть в официальной документации\n",
    "    \n",
    "  https://scikit-learn.org/stable/auto_examples/model_selection/plot_grid_search_text_feature_extraction.html\n",
    "    \n",
    "И еще полезные материалы:\n",
    "    \n",
    "  https://newtechaudit.ru/pipeline-v-rabote-s-dannymi/      \n",
    "</div>"
   ]
  },
  {
   "cell_type": "markdown",
   "id": "45ac401f-0b00-434e-9081-f48c3a6e7abb",
   "metadata": {},
   "source": [
    "<div class=\"alert\" style=\"background-color:#ead7f7;color:#8737bf\">\n",
    "    <font size=\"3\"><b>Комментарий студента</b></font>\n",
    "   \n",
    "- Теперь TfidfVectorizer обучается внутри Pipeline\n",
    "- Кросс-валидация не видит признаки, обученные на всей выборке (исключена утечка данных)\n",
    "- Используется cross_val_score(pipeline, X_train, y_train), где pipeline сам обучает TF-IDF на каждом фолде\n",
    "\n",
    "</div>"
   ]
  },
  {
   "cell_type": "markdown",
   "id": "9f531042",
   "metadata": {},
   "source": [
    "<img src=\"https://emojigraph.org/media/apple/check-mark-button_2705.png\" align=left width=33, heigth=33>\n",
    "<div class=\"alert alert-success\">\n",
    "А вот подбор гиперпараметра С для логистической регрессии это очень правильное решение. Линейные модели очень хорошо работают с признаками, полученными из текстов. С помощью TF-IDF мы получили очень длинные разряженные вектора. И действительно, они очень длинные (длина около 140 000), при этом очень мало значений отличаются от нуля. Так вот, линейные модели гораздо лучше деревьев справляются с такими признаками. Но им нужно помочь - и ослабить регуляризацию, т.к. она заметно вырастает из за большого количества признаков. И делаем мы это как раз подбирая гиперпараметр С.\n",
    "    \n",
    "\n",
    "</div>"
   ]
  },
  {
   "cell_type": "code",
   "execution_count": 16,
   "id": "9fca726f-ad31-466e-bac0-72e41d206356",
   "metadata": {
    "scrolled": true
   },
   "outputs": [
    {
     "name": "stderr",
     "output_type": "stream",
     "text": [
      "[I 2025-02-10 19:46:01,615] A new study created in memory with name: no-name-2cb8c809-1cc9-4408-bef7-ea7fa331de20\n",
      "[I 2025-02-10 19:46:38,339] Trial 0 finished with value: 0.6626044970425197 and parameters: {'model_type': 'lightgbm', 'n_estimators': 256, 'max_depth': 4}. Best is trial 0 with value: 0.6626044970425197.\n",
      "[I 2025-02-10 19:47:03,831] Trial 1 finished with value: 0.31787517754422323 and parameters: {'model_type': 'random_forest', 'n_estimators': 190, 'max_depth': 7}. Best is trial 0 with value: 0.6626044970425197.\n",
      "[I 2025-02-10 19:47:30,863] Trial 2 finished with value: 0.336166571600326 and parameters: {'model_type': 'random_forest', 'n_estimators': 118, 'max_depth': 12}. Best is trial 0 with value: 0.6626044970425197.\n",
      "[I 2025-02-10 19:47:44,398] Trial 3 finished with value: 0.710801828431054 and parameters: {'model_type': 'logreg', 'C': 0.3588226954192488}. Best is trial 3 with value: 0.710801828431054.\n",
      "[I 2025-02-10 19:48:08,018] Trial 4 finished with value: 0.3298819050605184 and parameters: {'model_type': 'random_forest', 'n_estimators': 102, 'max_depth': 11}. Best is trial 3 with value: 0.710801828431054.\n",
      "[I 2025-02-10 19:48:28,433] Trial 5 finished with value: 0.30530590639950295 and parameters: {'model_type': 'random_forest', 'n_estimators': 180, 'max_depth': 4}. Best is trial 3 with value: 0.710801828431054.\n",
      "[I 2025-02-10 19:48:40,936] Trial 6 finished with value: 0.5424787370242946 and parameters: {'model_type': 'logreg', 'C': 0.007030696898529586}. Best is trial 3 with value: 0.710801828431054.\n",
      "[I 2025-02-10 19:49:25,029] Trial 7 finished with value: 0.6969605149392756 and parameters: {'model_type': 'lightgbm', 'n_estimators': 147, 'max_depth': 13}. Best is trial 3 with value: 0.710801828431054.\n",
      "[I 2025-02-10 19:49:44,055] Trial 8 finished with value: 0.321593555067256 and parameters: {'model_type': 'random_forest', 'n_estimators': 60, 'max_depth': 11}. Best is trial 3 with value: 0.710801828431054.\n",
      "[I 2025-02-10 19:49:57,635] Trial 9 finished with value: 0.7092499328091262 and parameters: {'model_type': 'logreg', 'C': 0.3444761651902993}. Best is trial 3 with value: 0.710801828431054.\n",
      "[I 2025-02-10 19:50:13,243] Trial 10 finished with value: 0.7682967286332034 and parameters: {'model_type': 'logreg', 'C': 6.639603047950041}. Best is trial 10 with value: 0.7682967286332034.\n",
      "[I 2025-02-10 19:50:28,924] Trial 11 finished with value: 0.7695128015472086 and parameters: {'model_type': 'logreg', 'C': 8.738808547696229}. Best is trial 11 with value: 0.7695128015472086.\n",
      "[I 2025-02-10 19:50:45,232] Trial 12 finished with value: 0.769928870537057 and parameters: {'model_type': 'logreg', 'C': 7.515336979284294}. Best is trial 12 with value: 0.769928870537057.\n",
      "[I 2025-02-10 19:51:00,989] Trial 13 finished with value: 0.7695003498838672 and parameters: {'model_type': 'logreg', 'C': 8.889437692037689}. Best is trial 12 with value: 0.769928870537057.\n",
      "[I 2025-02-10 19:51:16,589] Trial 14 finished with value: 0.7691714431657947 and parameters: {'model_type': 'logreg', 'C': 9.889557403559285}. Best is trial 12 with value: 0.769928870537057.\n",
      "[I 2025-02-10 19:51:31,245] Trial 15 finished with value: 0.7463172276331683 and parameters: {'model_type': 'logreg', 'C': 1.2110364784653804}. Best is trial 12 with value: 0.769928870537057.\n",
      "[I 2025-02-10 19:51:44,037] Trial 16 finished with value: 0.5739368803561837 and parameters: {'model_type': 'logreg', 'C': 0.014022844447974856}. Best is trial 12 with value: 0.769928870537057.\n",
      "[I 2025-02-10 19:52:53,095] Trial 17 finished with value: 0.7414022313520331 and parameters: {'model_type': 'lightgbm', 'n_estimators': 287, 'max_depth': 15}. Best is trial 12 with value: 0.769928870537057.\n",
      "[I 2025-02-10 19:53:07,948] Trial 18 finished with value: 0.7497841124638027 and parameters: {'model_type': 'logreg', 'C': 1.5198555454919955}. Best is trial 12 with value: 0.769928870537057.\n",
      "[I 2025-02-10 19:53:20,964] Trial 19 finished with value: 0.6374276843769435 and parameters: {'model_type': 'logreg', 'C': 0.056516285147014754}. Best is trial 12 with value: 0.769928870537057.\n",
      "[I 2025-02-10 19:54:11,450] Trial 20 finished with value: 0.7019872817171565 and parameters: {'model_type': 'lightgbm', 'n_estimators': 229, 'max_depth': 8}. Best is trial 12 with value: 0.769928870537057.\n",
      "[I 2025-02-10 19:54:27,145] Trial 21 finished with value: 0.7632379373766386 and parameters: {'model_type': 'logreg', 'C': 3.4113681979489154}. Best is trial 12 with value: 0.769928870537057.\n",
      "[I 2025-02-10 19:54:43,519] Trial 22 finished with value: 0.7699474576169676 and parameters: {'model_type': 'logreg', 'C': 9.379513859212377}. Best is trial 22 with value: 0.7699474576169676.\n",
      "[I 2025-02-10 19:54:56,177] Trial 23 finished with value: 0.48321571953752873 and parameters: {'model_type': 'logreg', 'C': 0.001445185707408109}. Best is trial 22 with value: 0.7699474576169676.\n",
      "[I 2025-02-10 19:55:11,904] Trial 24 finished with value: 0.7550619967181649 and parameters: {'model_type': 'logreg', 'C': 1.8961830911600828}. Best is trial 22 with value: 0.7699474576169676.\n",
      "[I 2025-02-10 19:55:25,980] Trial 25 finished with value: 0.7243528719884835 and parameters: {'model_type': 'logreg', 'C': 0.5495924607961974}. Best is trial 22 with value: 0.7699474576169676.\n",
      "[I 2025-02-10 19:55:41,051] Trial 26 finished with value: 0.7615371453654564 and parameters: {'model_type': 'logreg', 'C': 3.295312811846882}. Best is trial 22 with value: 0.7699474576169676.\n",
      "[I 2025-02-10 19:55:54,532] Trial 27 finished with value: 0.6624391404790361 and parameters: {'model_type': 'logreg', 'C': 0.10323037055540629}. Best is trial 22 with value: 0.7699474576169676.\n",
      "[I 2025-02-10 19:56:19,352] Trial 28 finished with value: 0.5563677494711534 and parameters: {'model_type': 'lightgbm', 'n_estimators': 50, 'max_depth': 6}. Best is trial 22 with value: 0.7699474576169676.\n",
      "[I 2025-02-10 19:56:34,720] Trial 29 finished with value: 0.7646934963145058 and parameters: {'model_type': 'logreg', 'C': 3.995788493887911}. Best is trial 22 with value: 0.7699474576169676.\n",
      "[I 2025-02-10 19:57:45,935] Trial 30 finished with value: 0.7442475400848397 and parameters: {'model_type': 'lightgbm', 'n_estimators': 300, 'max_depth': 15}. Best is trial 22 with value: 0.7699474576169676.\n",
      "[I 2025-02-10 19:58:01,673] Trial 31 finished with value: 0.7689042251586026 and parameters: {'model_type': 'logreg', 'C': 9.296851201791691}. Best is trial 22 with value: 0.7699474576169676.\n",
      "[I 2025-02-10 19:58:17,141] Trial 32 finished with value: 0.7692780069442035 and parameters: {'model_type': 'logreg', 'C': 9.989154728040258}. Best is trial 22 with value: 0.7699474576169676.\n",
      "[I 2025-02-10 19:58:32,794] Trial 33 finished with value: 0.7631903023868282 and parameters: {'model_type': 'logreg', 'C': 3.529449997939149}. Best is trial 22 with value: 0.7699474576169676.\n",
      "[I 2025-02-10 19:58:47,340] Trial 34 finished with value: 0.7405345997627526 and parameters: {'model_type': 'logreg', 'C': 0.9559332145727198}. Best is trial 22 with value: 0.7699474576169676.\n",
      "[I 2025-02-10 19:59:19,199] Trial 35 finished with value: 0.32813388457073644 and parameters: {'model_type': 'random_forest', 'n_estimators': 221, 'max_depth': 9}. Best is trial 22 with value: 0.7699474576169676.\n",
      "[I 2025-02-10 19:59:35,033] Trial 36 finished with value: 0.7669474218293049 and parameters: {'model_type': 'logreg', 'C': 4.753316199792781}. Best is trial 22 with value: 0.7699474576169676.\n",
      "[I 2025-02-10 19:59:51,558] Trial 37 finished with value: 0.2936301471480874 and parameters: {'model_type': 'random_forest', 'n_estimators': 96, 'max_depth': 3}. Best is trial 22 with value: 0.7699474576169676.\n",
      "[I 2025-02-10 20:00:06,545] Trial 38 finished with value: 0.757867874866779 and parameters: {'model_type': 'logreg', 'C': 2.164751468527547}. Best is trial 22 with value: 0.7699474576169676.\n",
      "[I 2025-02-10 20:00:27,666] Trial 39 finished with value: 0.31488730150263133 and parameters: {'model_type': 'random_forest', 'n_estimators': 149, 'max_depth': 6}. Best is trial 22 with value: 0.7699474576169676.\n",
      "[I 2025-02-10 20:00:42,690] Trial 40 finished with value: 0.7658741738576017 and parameters: {'model_type': 'logreg', 'C': 5.2861865450592935}. Best is trial 22 with value: 0.7699474576169676.\n",
      "[I 2025-02-10 20:00:58,981] Trial 41 finished with value: 0.7695655591568145 and parameters: {'model_type': 'logreg', 'C': 8.00818499429645}. Best is trial 22 with value: 0.7699474576169676.\n",
      "[I 2025-02-10 20:01:14,816] Trial 42 finished with value: 0.7693435410653635 and parameters: {'model_type': 'logreg', 'C': 9.948331369182608}. Best is trial 22 with value: 0.7699474576169676.\n",
      "[I 2025-02-10 20:01:30,379] Trial 43 finished with value: 0.7655895765663951 and parameters: {'model_type': 'logreg', 'C': 4.957584774837154}. Best is trial 22 with value: 0.7699474576169676.\n",
      "[I 2025-02-10 20:01:46,144] Trial 44 finished with value: 0.7589176920723664 and parameters: {'model_type': 'logreg', 'C': 2.526868594766067}. Best is trial 22 with value: 0.7699474576169676.\n",
      "[I 2025-02-10 20:02:00,228] Trial 45 finished with value: 0.7341493570337891 and parameters: {'model_type': 'logreg', 'C': 0.7534866960079145}. Best is trial 22 with value: 0.7699474576169676.\n",
      "[I 2025-02-10 20:02:15,919] Trial 46 finished with value: 0.767727057716428 and parameters: {'model_type': 'logreg', 'C': 6.030833886693677}. Best is trial 22 with value: 0.7699474576169676.\n",
      "[I 2025-02-10 20:02:47,875] Trial 47 finished with value: 0.32813388457073644 and parameters: {'model_type': 'random_forest', 'n_estimators': 221, 'max_depth': 9}. Best is trial 22 with value: 0.7699474576169676.\n",
      "[I 2025-02-10 20:03:49,033] Trial 48 finished with value: 0.7311982358705991 and parameters: {'model_type': 'lightgbm', 'n_estimators': 258, 'max_depth': 13}. Best is trial 22 with value: 0.7699474576169676.\n",
      "[I 2025-02-10 20:04:02,576] Trial 49 finished with value: 0.6992868391410652 and parameters: {'model_type': 'logreg', 'C': 0.26153613160434436}. Best is trial 22 with value: 0.7699474576169676.\n"
     ]
    }
   ],
   "source": [
    "# Создаем исследование и запускаем оптимизацию\n",
    "study = optuna.create_study(direction='maximize')\n",
    "study.optimize(objective, n_trials=50)"
   ]
  },
  {
   "cell_type": "code",
   "execution_count": 17,
   "id": "954e5f53-6092-4aef-b445-3005c2964e50",
   "metadata": {},
   "outputs": [
    {
     "name": "stdout",
     "output_type": "stream",
     "text": [
      "Лучший F1-score: 0.7699\n",
      "Лучшая модель: logreg\n",
      "Лучшие параметры:\n",
      "  model_type: logreg\n",
      "  C: 9.379513859212377\n"
     ]
    }
   ],
   "source": [
    "# Получаем лучшую попытку из Optuna\n",
    "best_trial = study.best_trial\n",
    "\n",
    "# Выводим лучшую модель и ее параметры\n",
    "print(f\"Лучший F1-score: {best_trial.value:.4f}\")\n",
    "print(f\"Лучшая модель: {best_trial.params['model_type']}\")\n",
    "print(\"Лучшие параметры:\")\n",
    "for key, value in best_trial.params.items():\n",
    "    print(f\"  {key}: {value}\")"
   ]
  },
  {
   "cell_type": "markdown",
   "id": "aa75878a",
   "metadata": {},
   "source": [
    "<img src=\"https://emojigraph.org/media/apple/check-mark-button_2705.png\" align=left width=33, heigth=33>\n",
    "<div class=\"alert alert-success\">\n",
    " 👍 </div>"
   ]
  },
  {
   "cell_type": "markdown",
   "id": "384e9a03-1385-4ff1-a5e0-f88fdf899e9f",
   "metadata": {},
   "source": [
    "Лучшая модель: В ходе оптимизации гиперпараметров было выявлено, что лучшая модель для данной задачи — это LogisticRegression. С результатом F1-score = 0.7703 на тренировочной выборке. Используем технологию BERT для улучшения качества идентификации токсичных комментариев."
   ]
  },
  {
   "cell_type": "markdown",
   "id": "b84c5a7f-190c-42bb-b515-53a8ffef2839",
   "metadata": {},
   "source": [
    "## 5. Использование BERT для преобразования текста в эмбеддинги\n",
    "\n",
    "Для улучшения качества классификации мы используем предобученную нейросетевую модель **BERT** (`unitary/toxic-bert`). Эта модель была специально обучена на токсичных комментариях, что делает ее подходящей для нашей задачи.\n",
    "\n",
    "**Загрузка модели и токенизатора BERT**\n",
    "\n",
    "Мы загружаем:\n",
    "- **Токенизатор** `BertTokenizer` — для преобразования текста в числовые представления (токены).\n",
    "- **Модель** `BertForSequenceClassification` — BERT, адаптированный для задачи классификации текста."
   ]
  },
  {
   "cell_type": "code",
   "execution_count": 18,
   "id": "19ef4fcf-683e-4a05-874d-a77dc5a85da7",
   "metadata": {},
   "outputs": [],
   "source": [
    "# Загрузка модели и токенизатора BERT\n",
    "tokenizer = BertTokenizer.from_pretrained('unitary/toxic-bert')\n",
    "model_bert = BertModel.from_pretrained('unitary/toxic-bert').to(device)"
   ]
  },
  {
   "cell_type": "code",
   "execution_count": 19,
   "id": "635b644f-051a-4451-91d6-b903b73f283a",
   "metadata": {},
   "outputs": [],
   "source": [
    "# Функция для извлечения эмбеддингов BERT с мини-батчами\n",
    "def get_bert_embeddings(texts, tokenizer, model, max_length=128, pooling='cls', batch_size=16):\n",
    "    model.eval()\n",
    "    embeddings = []\n",
    "    \n",
    "    with torch.no_grad():\n",
    "        for i in tqdm(range(0, len(texts), batch_size)):  # Проходим по данным батчами\n",
    "            batch_texts = texts[i:i + batch_size]\n",
    "            \n",
    "            # Токенизируем сразу весь батч\n",
    "            encoding = tokenizer(batch_texts, padding=True, truncation=True, max_length=max_length, return_tensors=\"pt\").to(device)\n",
    "            \n",
    "            # Пропускаем через BERT\n",
    "            output = model(**encoding)\n",
    "\n",
    "            if pooling == 'cls':  \n",
    "                emb = output.last_hidden_state[:, 0, :].cpu().numpy()  # Берем CLS-токен\n",
    "            else:\n",
    "                attention_mask = encoding['attention_mask'].unsqueeze(-1).expand(output.last_hidden_state.shape)\n",
    "                sum_embeddings = torch.sum(output.last_hidden_state * attention_mask, dim=1)\n",
    "                sum_mask = torch.clamp(attention_mask.sum(dim=1), min=1e-9)\n",
    "                emb = (sum_embeddings / sum_mask).cpu().numpy()  # Усредняем токены\n",
    "\n",
    "            embeddings.append(emb)\n",
    "\n",
    "    return np.vstack(embeddings)  # Объединяем батчи в один массив"
   ]
  },
  {
   "cell_type": "markdown",
   "id": "fc37661e",
   "metadata": {},
   "source": [
    "<img src=\"https://upload.wikimedia.org/wikipedia/commons/thumb/8/81/Stop_sign.png/240px-Stop_sign.png\" align=left width=35, heigth=35>\n",
    "<div class=\"alert alert-danger\">\n",
    "Вот здесь давай разберемся подробнее.\n",
    "\n",
    "В теории к курсу мы изучали как получать эмбединг, несущий семантический смысл фразы (с нулевого CLS-токена).\n",
    "\n",
    "Существует еще один вариант (и он часто встречается в туториалах и коде), когда мы берем эмбединг не с нулевого токена, но как пулинг (например среднее) по всем \"смысловым\" токенам, которые \"выходят\" из модели BERT.\n",
    "    \n",
    "Можно дискутировать, какой из подходов лучше, но оба имеют право на жизнь и оба используются на практике.\n",
    "    \n",
    "Но что исползьуешь ты?  Модель BertForSequenceClassification представляет из себя модель BERT, к которой добавили еще один \"классифицирующий\" полносвязный слой, который решает задачу классификацции на несколько типов токсичности (точнее можно посмотреть в карточке модели).\n",
    "    \n",
    "И для последующей классификации ты используешь именно предсказания модели (точнее логиты). Не эмбединг, который в как-то обозначает смысл фразы в 768 мерном пространстве, а уже предсказания модели по 6 классам токсичности. \n",
    "    \n",
    "Это хорошо, что ты научился использовать модель 'unitary/toxic-bert', но цель проекта - научиться извлекать эмбединги из текста и с их помощью решать прикладные задачи. Поэтому прошу тебя использовать обычную  BertModel и получить в качестве признаков эмбединги из CLS токена (или можешь пулингом по всем смысловым токенам).\n",
    "    \n",
    "Чтобы убедиться, что все сделано правильно пожалуйста покажи размерность полученной матрицы признаков. При корректной работе должно получиться 768 (для обычного BERT)\n",
    "    \n",
    "А что касается 'unitary/toxic-bert',  то конечно же лучше использовать веса этой модели, т.к. эмбеддинги будут гораздо более качественными.    \n",
    "</div>"
   ]
  },
  {
   "cell_type": "markdown",
   "id": "7da391a4",
   "metadata": {},
   "source": [
    "<img src=\"https://emojigraph.org/media/apple/check-mark-button_2705.png\" align=left width=33, heigth=33>\n",
    "<div class=\"alert alert-success\">\n",
    "Очень круто, что ты используешь GPU для рассчетов, это радикально ускоряет вычисления. </div>"
   ]
  },
  {
   "cell_type": "markdown",
   "id": "3d3c4235",
   "metadata": {},
   "source": [
    "<img src=\"https://upload.wikimedia.org/wikipedia/commons/b/ba/Warning_sign_4.0.png\" align=left width=44, heigth=33>\n",
    "<div class=\"alert alert-warning\">\n",
    "Но думаю тут можно еще ускориться, если работать с мини-батчами\n",
    "\n",
    "</div>"
   ]
  },
  {
   "cell_type": "markdown",
   "id": "114127c9-419c-423e-82be-0cfee7ce7aa0",
   "metadata": {},
   "source": [
    "<div class=\"alert\" style=\"background-color:#ead7f7;color:#8737bf\">\n",
    "    <font size=\"3\"><b>Комментарий студента</b></font>\n",
    "   \n",
    "- Теперь используем BertModel, а не BertForSequenceClassification\n",
    "- Получаем эмбеддинги из last_hidden_state, а не предсказания\n",
    "\n",
    "pooling='cls' → берем эмбеддинг CLS-токена\n",
    "\n",
    "pooling='mean' → усредняем эмбеддинги по токенам\n",
    "\n",
    "-  Обрабатываем тексты батчами\n",
    "\n",
    "</div>"
   ]
  },
  {
   "cell_type": "code",
   "execution_count": 20,
   "id": "07febf38-8c69-441d-a28f-fc97c6d0e7df",
   "metadata": {},
   "outputs": [
    {
     "data": {
      "application/vnd.jupyter.widget-view+json": {
       "model_id": "841a70d0ee9e44e0b6f9bc03bf340a1a",
       "version_major": 2,
       "version_minor": 0
      },
      "text/plain": [
       "  0%|          | 0/7965 [00:00<?, ?it/s]"
      ]
     },
     "metadata": {},
     "output_type": "display_data"
    },
    {
     "data": {
      "application/vnd.jupyter.widget-view+json": {
       "model_id": "5df8b2a40f174c98867725f28e31b9ba",
       "version_major": 2,
       "version_minor": 0
      },
      "text/plain": [
       "  0%|          | 0/1992 [00:00<?, ?it/s]"
      ]
     },
     "metadata": {},
     "output_type": "display_data"
    }
   ],
   "source": [
    "# Преобразуем текст в эмбеддинги\n",
    "X_train_bert = get_bert_embeddings(X_train.tolist(), tokenizer, model_bert)\n",
    "X_test_bert = get_bert_embeddings(X_test.tolist(), tokenizer, model_bert)"
   ]
  },
  {
   "cell_type": "code",
   "execution_count": 30,
   "id": "9a23217f-be96-4206-8b8d-c60f5da27238",
   "metadata": {},
   "outputs": [
    {
     "data": {
      "text/plain": [
       "((127433, 768), (31859, 768))"
      ]
     },
     "execution_count": 30,
     "metadata": {},
     "output_type": "execute_result"
    }
   ],
   "source": [
    "X_train_bert.shape, X_test_bert.shape"
   ]
  },
  {
   "cell_type": "markdown",
   "id": "6cc44506-7899-4b95-9d38-b4e256ceca18",
   "metadata": {},
   "source": [
    "<div class=\"alert\" style=\"background-color:#ead7f7;color:#8737bf\">\n",
    "    <font size=\"3\"><b>Комментарий студента</b></font>\n",
    "   \n",
    "Размерность 768\n",
    "\n",
    "</div>"
   ]
  },
  {
   "cell_type": "markdown",
   "id": "5e4eabd5-4826-4caa-85ef-a6459debbe89",
   "metadata": {},
   "source": [
    "### 5.1 Оптимизация моделей с Optuna + BERT\n",
    "\n",
    "Для выбора наилучшей модели и ее гиперпараметров мы используем библиотеку **Optuna**, которая позволяет автоматически искать оптимальные параметры для машинного обучения.\n",
    "\n",
    "**Поиск наилучшей модели**\n",
    "\n",
    "Мы рассматриваем три различных модели классификации:\n",
    "- **Логистическая регрессия (`logreg`)**\n",
    "- **Случайный лес (`random_forest`)**\n",
    "- **Градиентный бустинг LightGBM (`lightgbm`)**\n",
    "\n",
    "Optuna будет **перебирать** параметры для каждой модели, чтобы найти наилучшие."
   ]
  },
  {
   "cell_type": "markdown",
   "id": "9c0be616-b2e4-4848-a7da-8caa696a9463",
   "metadata": {},
   "source": [
    "<div class=\"alert\" style=\"background-color:#ead7f7;color:#8737bf\">\n",
    "    <font size=\"3\"><b>Комментарий студента</b></font>\n",
    "   \n",
    "Убрал RandomForest из вычислений, так как требует большое количество времени и нет возможности ускорить на ГПУ. \n",
    "\n",
    "</div>"
   ]
  },
  {
   "cell_type": "code",
   "execution_count": 23,
   "id": "f2a26455-6d50-4c55-970c-8030e3c6380d",
   "metadata": {
    "scrolled": true
   },
   "outputs": [],
   "source": [
    "# Оптимизация модели с BERT эмбеддингами\n",
    "def objective_bert(trial):\n",
    "    model_type = trial.suggest_categorical('model_type', ['logreg', 'lightgbm'])  # Удален 'random_forest'\n",
    "    \n",
    "    if model_type == 'logreg':\n",
    "        C = trial.suggest_float('C', 1e-3, 10, log=True)\n",
    "        model = LogisticRegression(class_weight='balanced', max_iter=1000, C=C)\n",
    "    else:\n",
    "        n_estimators = trial.suggest_int('n_estimators', 50, 300)\n",
    "        max_depth = trial.suggest_int('max_depth', 3, 15)\n",
    "        model = LGBMClassifier(n_estimators=n_estimators, max_depth=max_depth, class_weight='balanced', random_state=42, device='gpu', verbose=-1)\n",
    "\n",
    "    # Кросс-валидация для оценки модели\n",
    "    cv = StratifiedKFold(n_splits=4, shuffle=True, random_state=42)\n",
    "    scores = cross_val_score(model, X_train_bert, y_train, cv=cv, scoring='f1')\n",
    "\n",
    "    return scores.mean()"
   ]
  },
  {
   "cell_type": "code",
   "execution_count": 24,
   "id": "98488a4f-8328-40f7-8207-6995f1b6efb8",
   "metadata": {
    "scrolled": true
   },
   "outputs": [
    {
     "name": "stderr",
     "output_type": "stream",
     "text": [
      "[I 2025-02-10 20:13:31,732] A new study created in memory with name: no-name-59cab13a-9435-4b56-a3ba-e941642a46f7\n",
      "[I 2025-02-10 20:13:40,604] Trial 0 finished with value: 0.8988914488127898 and parameters: {'model_type': 'logreg', 'C': 0.0024858168574613225}. Best is trial 0 with value: 0.8988914488127898.\n",
      "[I 2025-02-10 20:13:57,672] Trial 1 finished with value: 0.9080112370675595 and parameters: {'model_type': 'logreg', 'C': 0.3075806666085683}. Best is trial 1 with value: 0.9080112370675595.\n",
      "[I 2025-02-10 20:14:20,317] Trial 2 finished with value: 0.9318255870398354 and parameters: {'model_type': 'lightgbm', 'n_estimators': 241, 'max_depth': 13}. Best is trial 2 with value: 0.9318255870398354.\n",
      "[I 2025-02-10 20:14:46,328] Trial 3 finished with value: 0.9324526460706166 and parameters: {'model_type': 'lightgbm', 'n_estimators': 296, 'max_depth': 11}. Best is trial 3 with value: 0.9324526460706166.\n",
      "[I 2025-02-10 20:15:11,245] Trial 4 finished with value: 0.9059433645850055 and parameters: {'model_type': 'logreg', 'C': 5.2497065345259175}. Best is trial 3 with value: 0.9324526460706166.\n",
      "[I 2025-02-10 20:15:34,716] Trial 5 finished with value: 0.9067337234529291 and parameters: {'model_type': 'logreg', 'C': 3.4346856324123918}. Best is trial 3 with value: 0.9324526460706166.\n",
      "[I 2025-02-10 20:15:56,350] Trial 6 finished with value: 0.9070244485237322 and parameters: {'model_type': 'logreg', 'C': 1.5078152280969424}. Best is trial 3 with value: 0.9324526460706166.\n",
      "[I 2025-02-10 20:16:02,512] Trial 7 finished with value: 0.9043637760739716 and parameters: {'model_type': 'logreg', 'C': 0.009782835187584745}. Best is trial 3 with value: 0.9324526460706166.\n",
      "[I 2025-02-10 20:16:13,664] Trial 8 finished with value: 0.9091258025770381 and parameters: {'model_type': 'lightgbm', 'n_estimators': 65, 'max_depth': 4}. Best is trial 3 with value: 0.9324526460706166.\n",
      "[I 2025-02-10 20:16:18,930] Trial 9 finished with value: 0.9029620939880433 and parameters: {'model_type': 'logreg', 'C': 0.005561452836534836}. Best is trial 3 with value: 0.9324526460706166.\n",
      "[I 2025-02-10 20:16:45,122] Trial 10 finished with value: 0.9321886021464937 and parameters: {'model_type': 'lightgbm', 'n_estimators': 288, 'max_depth': 11}. Best is trial 3 with value: 0.9324526460706166.\n",
      "[I 2025-02-10 20:17:11,354] Trial 11 finished with value: 0.9319350419412977 and parameters: {'model_type': 'lightgbm', 'n_estimators': 286, 'max_depth': 11}. Best is trial 3 with value: 0.9324526460706166.\n",
      "[I 2025-02-10 20:17:37,257] Trial 12 finished with value: 0.9321926568616936 and parameters: {'model_type': 'lightgbm', 'n_estimators': 298, 'max_depth': 9}. Best is trial 3 with value: 0.9324526460706166.\n",
      "[I 2025-02-10 20:17:55,773] Trial 13 finished with value: 0.9268569818229138 and parameters: {'model_type': 'lightgbm', 'n_estimators': 183, 'max_depth': 6}. Best is trial 3 with value: 0.9324526460706166.\n",
      "[I 2025-02-10 20:18:17,435] Trial 14 finished with value: 0.9301943062932819 and parameters: {'model_type': 'lightgbm', 'n_estimators': 219, 'max_depth': 8}. Best is trial 3 with value: 0.9324526460706166.\n",
      "[I 2025-02-10 20:18:45,023] Trial 15 finished with value: 0.9316196021268137 and parameters: {'model_type': 'lightgbm', 'n_estimators': 298, 'max_depth': 15}. Best is trial 3 with value: 0.9324526460706166.\n",
      "[I 2025-02-10 20:19:01,679] Trial 16 finished with value: 0.9244645521808783 and parameters: {'model_type': 'lightgbm', 'n_estimators': 112, 'max_depth': 9}. Best is trial 3 with value: 0.9324526460706166.\n",
      "[I 2025-02-10 20:19:25,366] Trial 17 finished with value: 0.9317447801492236 and parameters: {'model_type': 'lightgbm', 'n_estimators': 236, 'max_depth': 11}. Best is trial 3 with value: 0.9324526460706166.\n",
      "[I 2025-02-10 20:19:43,821] Trial 18 finished with value: 0.9267053748578772 and parameters: {'model_type': 'lightgbm', 'n_estimators': 156, 'max_depth': 7}. Best is trial 3 with value: 0.9324526460706166.\n",
      "[I 2025-02-10 20:20:08,940] Trial 19 finished with value: 0.9312243351747445 and parameters: {'model_type': 'lightgbm', 'n_estimators': 257, 'max_depth': 10}. Best is trial 3 with value: 0.9324526460706166.\n",
      "[I 2025-02-10 20:20:31,331] Trial 20 finished with value: 0.9310803513653084 and parameters: {'model_type': 'lightgbm', 'n_estimators': 205, 'max_depth': 13}. Best is trial 3 with value: 0.9324526460706166.\n",
      "[I 2025-02-10 20:20:57,779] Trial 21 finished with value: 0.9315376023316249 and parameters: {'model_type': 'lightgbm', 'n_estimators': 277, 'max_depth': 12}. Best is trial 3 with value: 0.9324526460706166.\n",
      "[I 2025-02-10 20:21:22,321] Trial 22 finished with value: 0.9320171249212468 and parameters: {'model_type': 'lightgbm', 'n_estimators': 271, 'max_depth': 9}. Best is trial 3 with value: 0.9324526460706166.\n",
      "[I 2025-02-10 20:21:49,082] Trial 23 finished with value: 0.9319897632484613 and parameters: {'model_type': 'lightgbm', 'n_estimators': 299, 'max_depth': 10}. Best is trial 3 with value: 0.9324526460706166.\n",
      "[I 2025-02-10 20:22:15,121] Trial 24 finished with value: 0.9316324722884741 and parameters: {'model_type': 'lightgbm', 'n_estimators': 263, 'max_depth': 15}. Best is trial 3 with value: 0.9324526460706166.\n",
      "[I 2025-02-10 20:22:39,817] Trial 25 finished with value: 0.9318609766690437 and parameters: {'model_type': 'lightgbm', 'n_estimators': 240, 'max_depth': 13}. Best is trial 3 with value: 0.9324526460706166.\n",
      "[I 2025-02-10 20:23:03,308] Trial 26 finished with value: 0.9309500217114808 and parameters: {'model_type': 'lightgbm', 'n_estimators': 297, 'max_depth': 6}. Best is trial 3 with value: 0.9324526460706166.\n",
      "[I 2025-02-10 20:23:22,386] Trial 27 finished with value: 0.9291562527837041 and parameters: {'model_type': 'lightgbm', 'n_estimators': 151, 'max_depth': 11}. Best is trial 3 with value: 0.9324526460706166.\n",
      "[I 2025-02-10 20:23:46,395] Trial 28 finished with value: 0.931907058074543 and parameters: {'model_type': 'lightgbm', 'n_estimators': 259, 'max_depth': 8}. Best is trial 3 with value: 0.9324526460706166.\n",
      "[I 2025-02-10 20:23:59,843] Trial 29 finished with value: 0.9125987170594749 and parameters: {'model_type': 'lightgbm', 'n_estimators': 211, 'max_depth': 3}. Best is trial 3 with value: 0.9324526460706166.\n"
     ]
    },
    {
     "name": "stdout",
     "output_type": "stream",
     "text": [
      "Оптимизация моделей с BERT эмбеддингами завершена!\n"
     ]
    }
   ],
   "source": [
    "# Создаем исследование и запускаем оптимизацию\n",
    "study_bert = optuna.create_study(direction='maximize')\n",
    "study_bert.optimize(objective_bert, n_trials=30)\n",
    "print(\"Оптимизация моделей с BERT эмбеддингами завершена!\")"
   ]
  },
  {
   "cell_type": "code",
   "execution_count": 26,
   "id": "5b282be4-d011-410a-8362-0105ec459611",
   "metadata": {},
   "outputs": [],
   "source": [
    "# Загружаем лучшие гиперпараметры и обучаем финальную модель\n",
    "trial_bert = study_bert.best_trial\n",
    "best_model_type = trial_bert.params['model_type']\n",
    "\n",
    "if best_model_type == 'logreg':\n",
    "    best_C = trial_bert.params['C']\n",
    "    model = LogisticRegression(class_weight='balanced', max_iter=1000, C=best_C)\n",
    "else:\n",
    "    best_n_estimators = trial_bert.params['n_estimators']\n",
    "    best_max_depth = trial_bert.params['max_depth']\n",
    "    model = LGBMClassifier(n_estimators=best_n_estimators, max_depth=best_max_depth, class_weight='balanced', random_state=42, device='gpu')"
   ]
  },
  {
   "cell_type": "code",
   "execution_count": 27,
   "id": "207fc388-9134-4a77-94fe-f49b3923538c",
   "metadata": {
    "jp-MarkdownHeadingCollapsed": true
   },
   "outputs": [
    {
     "name": "stdout",
     "output_type": "stream",
     "text": [
      "✅ Лучшая модель: lightgbm\n",
      "🎯 Лучший F1-score: 0.9325\n",
      "⚙️ Лучшие гиперпараметры:\n",
      "  model_type: lightgbm\n",
      "  n_estimators: 296\n",
      "  max_depth: 11\n"
     ]
    }
   ],
   "source": [
    "# Определяем тип лучшей модели\n",
    "best_model_type = trial_bert.params['model_type']\n",
    "\n",
    "# Выводим информацию о лучшей модели и ее параметрах\n",
    "print(f\"✅ Лучшая модель: {best_model_type}\")\n",
    "print(f\"🎯 Лучший F1-score: {trial_bert.value:.4f}\")\n",
    "print(\"⚙️ Лучшие гиперпараметры:\")\n",
    "for key, value in trial_bert.params.items():\n",
    "    print(f\"  {key}: {value}\")"
   ]
  },
  {
   "cell_type": "markdown",
   "id": "225a702a-1aa0-4daa-bd25-75b72b02ee34",
   "metadata": {},
   "source": [
    "## 5.2 Обучение на тестовых данных лучшей модели"
   ]
  },
  {
   "cell_type": "code",
   "execution_count": 28,
   "id": "a04b29c9-37b4-413d-959c-16f07c627d05",
   "metadata": {},
   "outputs": [],
   "source": [
    "# Обучаем модель на тренировочных данных с BERT эмбеддингами\n",
    "model.fit(X_train_bert, y_train)\n",
    "\n",
    "# Предсказания на тестовых данных\n",
    "y_pred_bert = model.predict(X_test_bert)"
   ]
  },
  {
   "cell_type": "code",
   "execution_count": 29,
   "id": "f85f6fef-9008-4ac5-bf26-b4a9ae410b0b",
   "metadata": {},
   "outputs": [
    {
     "name": "stdout",
     "output_type": "stream",
     "text": [
      "Результаты на тестовых данных:\n",
      "              precision    recall  f1-score   support\n",
      "\n",
      "           0       0.99      0.99      0.99     28622\n",
      "           1       0.91      0.94      0.92      3237\n",
      "\n",
      "    accuracy                           0.98     31859\n",
      "   macro avg       0.95      0.96      0.96     31859\n",
      "weighted avg       0.98      0.98      0.98     31859\n",
      "\n",
      "F1-score: 0.9243\n"
     ]
    }
   ],
   "source": [
    "# Вычисляем F1-score корректно для бинарной классификации\n",
    "f1 = f1_score(y_test, y_pred_bert)  # 'binary' используется по умолчанию\n",
    "\n",
    "# Выводим метрики\n",
    "print(\"Результаты на тестовых данных:\")\n",
    "print(classification_report(y_test, y_pred_bert))\n",
    "\n",
    "# Вывод F1-score\n",
    "print(f\"F1-score: {f1:.4f}\")"
   ]
  },
  {
   "cell_type": "markdown",
   "id": "89ca52e6",
   "metadata": {},
   "source": [
    "<img src=\"https://upload.wikimedia.org/wikipedia/commons/thumb/8/81/Stop_sign.png/240px-Stop_sign.png\" align=left width=35, heigth=35>\n",
    "<div class=\"alert alert-danger\">\n",
    "Добавляя параметр average='weighted' ты считаешь совершенно другую метрику, не имеющую отношения к нашей задаче.\n",
    "\n",
    "\n",
    "Мы решаем задачу бинарной классификации, а добавляя average='weighted' ты считаешь метрику для многоклассовой классификации. И с учетом сильного дисбаланса она выглядит гораздо красивее \"в цифрах\", однако не имеет ничего общего с тем, что мы будем иметь в продакшене.\n",
    "    \n",
    "Пожалуйста подсчитай метрику корректно.\n",
    "</div>"
   ]
  },
  {
   "cell_type": "markdown",
   "id": "f74d5102-4cb0-4fa5-920a-0ca8b0e22feb",
   "metadata": {},
   "source": [
    "<div class=\"alert\" style=\"background-color:#ead7f7;color:#8737bf\">\n",
    "    <font size=\"3\"><b>Комментарий студента</b></font>\n",
    "   \n",
    "- Удалили average='weighted', теперь F1-score корректный для бинарной задачи\n",
    "- Используется classification_report(), который показывает метрики для обоих классов\n",
    "\n",
    "</div>"
   ]
  },
  {
   "cell_type": "markdown",
   "id": "9bd89c42-a6a9-40fb-8a4b-20572e12cbf5",
   "metadata": {},
   "source": [
    "### 6. Общий вывод по проекту:\n",
    "**1. Цель проекта:**\n",
    "Проект направлен на классификацию токсичных комментариев с использованием различных моделей машинного обучения, включая методы на основе BERT эмбеддингов. Мы использовали инструменты для оптимизации гиперпараметров моделей с помощью Optuna и достижения наилучших результатов.\n",
    "\n",
    "**2. Процесс и используемые технологии:**\n",
    "Предобработка данных: Мы использовали различные методы предобработки текста, такие как удаление стоп-слов, приведение к нижнему регистру и лемматизация для очистки текста.\n",
    "TF-IDF и BERT эмбеддинги: Для векторизации текста использовались как традиционные методы (TF-IDF), так и более современные BERT эмбеддинги, которые дали значительное улучшение в точности модели.\n",
    "Оптимизация гиперпараметров: Оптимизация моделей проводилась с использованием библиотеки Optuna, что позволило найти лучшие параметры для каждой модели.\n",
    "Использование GPU: Для обучения моделей использовался GPU, что значительно ускорило процесс при работе с большими объемами данных и моделями на основе BERT.\n",
    "\n",
    "**3. Результаты моделей:**\n",
    "Лучшая модель: В ходе оптимизации гиперпараметров было выявлено, что лучшая модель для данной задачи — это Lightgbm. С результатом F1-score = 0.9243 на тестовой выборке.\n",
    "\n",
    "**4. Выводы:**\n",
    "Применение BERT эмбеддингов значительно улучшает результаты, особенно по сравнению с традиционными методами, такими как TF-IDF.\n",
    "Оптимизация гиперпараметров с использованием Optuna позволяет найти лучшие настройки для моделей и улучшить их точность.\n",
    "Random Forest показал себя как стабильная модель для данной задачи, однако методы на основе BERT показали лучшее качество и могли бы быть использованы для дальнейших улучшений.\n",
    "\n",
    "**5. Рекомендации:**\n",
    "Модели на основе BERT можно дополнительно дообучить на специфических данных или настроить на другие языки для улучшения универсальности.\n",
    "Рассмотрение гибридных моделей с использованием нескольких подходов (например, объединение Random Forest и нейросетевых моделей).\n",
    "Дальнейшая оптимизация и тестирование на новых данных для повышения устойчивости модели.\n",
    "Проект показал хорошие результаты, и с использованием оптимизации гиперпараметров и BERT эмбеддингов удалось достичь высокой точности классификации токсичных комментариев! "
   ]
  },
  {
   "cell_type": "markdown",
   "id": "236306c2",
   "metadata": {},
   "source": [
    "<img src=\"http://s3.amazonaws.com/pix.iemoji.com/images/emoji/apple/ios-12/256/waving-hand.png\" align=left width=44, heigth=44>\n",
    "<div class=\"alert alert-info\">\n",
    "<b> Заключительный комментарий</b>\n",
    "Давай подведем итоги. В целом с проектом ты справляешься - текст предобработан, извлечены признаки и обучены классификаторы. Достигнуто требуемое значение метрики f1.  Очень порадовало использование BERT в проекте.\n",
    "    \n",
    "Но кое с чем нужно еще поработать. \n",
    "    \n",
    " - Пожалуста перепиши раздел с лемматизацией. Сейчас она выполняется некорректно.\n",
    " - Пожалуйста доработай код с загрузкой датасета, чтобы он одинаково корректно работал как на твоей локальной машине, так и на платформе ЯП\n",
    " - В случае использования BERT давай в качестве признаков использовать именно эмбеддинги фразы, но не предсказания модели о классах токсичности.\n",
    " - Пожалйста используй корректную метрику (f1 для бинарной классификации) на этапе тестирования.   \n",
    "\n",
    "\n",
    "     \n",
    "Жду твоих исправлений :)\n",
    "</div>"
   ]
  },
  {
   "cell_type": "markdown",
   "id": "8804bc0c",
   "metadata": {},
   "source": [
    "<img src=\"http://s3.amazonaws.com/pix.iemoji.com/images/emoji/apple/ios-12/256/waving-hand.png\" align=left width=44, heigth=44>\n",
    "<div class=\"alert alert-info\">\n",
    "<b> рекомендации по доп. материалам</b>\n",
    "Если решишь погрузиться в область работы с текстами, очень советую несколько продвинутых бесплатных курсов.\n",
    "    \n",
    "   - Отличный бесплатный курс от Школы глубокого обучения МФТИ (https://stepik.org/org/dlschool), старт курса каждые пол года. Два семестра, один по основам и компьютерному зрению, второй по обработке естественного языка. Проходить нужно именно в таком порядке,т.к. почти весь современный NLP построен на нейронках.\n",
    "    \n",
    "   - \"Нейронные сети и компьютерное зрение\" от Samsung Research Russia (https://stepik.org/course/50352/syllabus). Есть также продолжение по NLP.  \n",
    "   - Трек NLP от сообщества ODS https://ods.ai/tracks/nlp-course-autumn-22\n",
    "    \n",
    "    \n",
    "А если на тебя произвели впечатление возможности ChatGPT и хочешь попробовать использовать возможности больших языковых моделей для решения своих задач, могу порекомендовать следующие курсы (первые две ссылки на английском, зато последняя подборка лекций на русском).\n",
    "    \n",
    "  - https://www.coursera.org/learn/generative-ai-with-llms  (можно прослужать бесплатно)\n",
    "  - Короткие курсы на сайте https://www.deeplearning.ai/short-courses/  Самый свежак - как писать промпты, как использовать LLM для создания собственных приложений (например как создать бота на основе ChatGPT, который будет отвечать на вопросы по внутренней документации компании).  \n",
    "  - https://www.promptingguide.ai/introduction/settings\n",
    "  - https://www.youtube.com/watch?v=l-l82uNwyu8&list=PLy6K3_Hx-udj6n1S88Vslyw2QVxSXLP2c    \n",
    "    \n",
    "    \n",
    "    \n",
    "    \n",
    "Также можно обратиться к туториалу по использованию языковых моделей на HugingFace. Обрати внимание, для больше чем половины материалов доступен перевод на русский, хотя можно читать и на языке оригинала. \n",
    "    \n",
    "  https://huggingface.co/learn/nlp-course   \n",
    " \n",
    "</div>"
   ]
  },
  {
   "cell_type": "markdown",
   "id": "e585cabf",
   "metadata": {},
   "source": []
  }
 ],
 "metadata": {
  "kernelspec": {
   "display_name": "Python 3 (ipykernel)",
   "language": "python",
   "name": "python3"
  },
  "language_info": {
   "codemirror_mode": {
    "name": "ipython",
    "version": 3
   },
   "file_extension": ".py",
   "mimetype": "text/x-python",
   "name": "python",
   "nbconvert_exporter": "python",
   "pygments_lexer": "ipython3",
   "version": "3.11.5"
  },
  "toc": {
   "base_numbering": 1,
   "nav_menu": {},
   "number_sections": true,
   "sideBar": true,
   "skip_h1_title": true,
   "title_cell": "Table of Contents",
   "title_sidebar": "Contents",
   "toc_cell": false,
   "toc_position": {},
   "toc_section_display": true,
   "toc_window_display": false
  }
 },
 "nbformat": 4,
 "nbformat_minor": 5
}
